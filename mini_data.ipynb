{
 "cells": [
  {
   "cell_type": "code",
   "execution_count": 1,
   "metadata": {},
   "outputs": [],
   "source": [
    "import pandas as pd\n",
    "from metrics import get_metrics, plot_pr_curve, get_gt_and_proba, plot_roc_curve\n",
    "import matplotlib.pyplot as plt\n",
    "import numpy as np"
   ]
  },
  {
   "attachments": {},
   "cell_type": "markdown",
   "metadata": {},
   "source": [
    "Читаю csv-файлы в датафреймы и изучаю как выглядят данные"
   ]
  },
  {
   "cell_type": "code",
   "execution_count": 2,
   "metadata": {},
   "outputs": [],
   "source": [
    "gt = pd.read_csv('mini_dataset/groundtruth.csv')\n",
    "preds = pd.read_csv('mini_dataset/predictions.csv')"
   ]
  },
  {
   "cell_type": "code",
   "execution_count": 3,
   "metadata": {},
   "outputs": [
    {
     "data": {
      "text/html": [
       "<div>\n",
       "<style scoped>\n",
       "    .dataframe tbody tr th:only-of-type {\n",
       "        vertical-align: middle;\n",
       "    }\n",
       "\n",
       "    .dataframe tbody tr th {\n",
       "        vertical-align: top;\n",
       "    }\n",
       "\n",
       "    .dataframe thead th {\n",
       "        text-align: right;\n",
       "    }\n",
       "</style>\n",
       "<table border=\"1\" class=\"dataframe\">\n",
       "  <thead>\n",
       "    <tr style=\"text-align: right;\">\n",
       "      <th></th>\n",
       "      <th>clip_name</th>\n",
       "      <th>frame_num</th>\n",
       "      <th>obj_type</th>\n",
       "      <th>x</th>\n",
       "      <th>y</th>\n",
       "      <th>w</th>\n",
       "      <th>h</th>\n",
       "      <th>confidence</th>\n",
       "    </tr>\n",
       "  </thead>\n",
       "  <tbody>\n",
       "    <tr>\n",
       "      <th>0</th>\n",
       "      <td>20191216_123222.mp4</td>\n",
       "      <td>4</td>\n",
       "      <td>SeatbeltNo</td>\n",
       "      <td>146</td>\n",
       "      <td>478</td>\n",
       "      <td>294</td>\n",
       "      <td>242</td>\n",
       "      <td>0.980469</td>\n",
       "    </tr>\n",
       "    <tr>\n",
       "      <th>1</th>\n",
       "      <td>20191216_123222.mp4</td>\n",
       "      <td>4</td>\n",
       "      <td>Eyes</td>\n",
       "      <td>202</td>\n",
       "      <td>356</td>\n",
       "      <td>106</td>\n",
       "      <td>52</td>\n",
       "      <td>0.003906</td>\n",
       "    </tr>\n",
       "    <tr>\n",
       "      <th>2</th>\n",
       "      <td>20191216_123222.mp4</td>\n",
       "      <td>4</td>\n",
       "      <td>Face</td>\n",
       "      <td>206</td>\n",
       "      <td>328</td>\n",
       "      <td>124</td>\n",
       "      <td>148</td>\n",
       "      <td>0.000000</td>\n",
       "    </tr>\n",
       "    <tr>\n",
       "      <th>3</th>\n",
       "      <td>20191216_123222.mp4</td>\n",
       "      <td>4</td>\n",
       "      <td>Mouth</td>\n",
       "      <td>208</td>\n",
       "      <td>414</td>\n",
       "      <td>106</td>\n",
       "      <td>52</td>\n",
       "      <td>0.003906</td>\n",
       "    </tr>\n",
       "    <tr>\n",
       "      <th>4</th>\n",
       "      <td>20191216_123222.mp4</td>\n",
       "      <td>5</td>\n",
       "      <td>SeatbeltNo</td>\n",
       "      <td>146</td>\n",
       "      <td>478</td>\n",
       "      <td>288</td>\n",
       "      <td>242</td>\n",
       "      <td>0.984375</td>\n",
       "    </tr>\n",
       "    <tr>\n",
       "      <th>...</th>\n",
       "      <td>...</td>\n",
       "      <td>...</td>\n",
       "      <td>...</td>\n",
       "      <td>...</td>\n",
       "      <td>...</td>\n",
       "      <td>...</td>\n",
       "      <td>...</td>\n",
       "      <td>...</td>\n",
       "    </tr>\n",
       "    <tr>\n",
       "      <th>120057</th>\n",
       "      <td>20191216_125644.mp4</td>\n",
       "      <td>5101</td>\n",
       "      <td>Mouth</td>\n",
       "      <td>272</td>\n",
       "      <td>426</td>\n",
       "      <td>116</td>\n",
       "      <td>58</td>\n",
       "      <td>0.003906</td>\n",
       "    </tr>\n",
       "    <tr>\n",
       "      <th>120058</th>\n",
       "      <td>20191216_125644.mp4</td>\n",
       "      <td>5102</td>\n",
       "      <td>SeatbeltNo</td>\n",
       "      <td>240</td>\n",
       "      <td>426</td>\n",
       "      <td>318</td>\n",
       "      <td>294</td>\n",
       "      <td>0.992188</td>\n",
       "    </tr>\n",
       "    <tr>\n",
       "      <th>120059</th>\n",
       "      <td>20191216_125644.mp4</td>\n",
       "      <td>5102</td>\n",
       "      <td>Glasses</td>\n",
       "      <td>252</td>\n",
       "      <td>362</td>\n",
       "      <td>150</td>\n",
       "      <td>72</td>\n",
       "      <td>0.788163</td>\n",
       "    </tr>\n",
       "    <tr>\n",
       "      <th>120060</th>\n",
       "      <td>20191216_125644.mp4</td>\n",
       "      <td>5102</td>\n",
       "      <td>Face</td>\n",
       "      <td>268</td>\n",
       "      <td>328</td>\n",
       "      <td>142</td>\n",
       "      <td>164</td>\n",
       "      <td>0.000000</td>\n",
       "    </tr>\n",
       "    <tr>\n",
       "      <th>120061</th>\n",
       "      <td>20191216_125644.mp4</td>\n",
       "      <td>5102</td>\n",
       "      <td>Mouth</td>\n",
       "      <td>272</td>\n",
       "      <td>426</td>\n",
       "      <td>116</td>\n",
       "      <td>58</td>\n",
       "      <td>0.003906</td>\n",
       "    </tr>\n",
       "  </tbody>\n",
       "</table>\n",
       "<p>120062 rows × 8 columns</p>\n",
       "</div>"
      ],
      "text/plain": [
       "                  clip_name  frame_num    obj_type    x    y    w    h  \\\n",
       "0       20191216_123222.mp4          4  SeatbeltNo  146  478  294  242   \n",
       "1       20191216_123222.mp4          4        Eyes  202  356  106   52   \n",
       "2       20191216_123222.mp4          4        Face  206  328  124  148   \n",
       "3       20191216_123222.mp4          4       Mouth  208  414  106   52   \n",
       "4       20191216_123222.mp4          5  SeatbeltNo  146  478  288  242   \n",
       "...                     ...        ...         ...  ...  ...  ...  ...   \n",
       "120057  20191216_125644.mp4       5101       Mouth  272  426  116   58   \n",
       "120058  20191216_125644.mp4       5102  SeatbeltNo  240  426  318  294   \n",
       "120059  20191216_125644.mp4       5102     Glasses  252  362  150   72   \n",
       "120060  20191216_125644.mp4       5102        Face  268  328  142  164   \n",
       "120061  20191216_125644.mp4       5102       Mouth  272  426  116   58   \n",
       "\n",
       "        confidence  \n",
       "0         0.980469  \n",
       "1         0.003906  \n",
       "2         0.000000  \n",
       "3         0.003906  \n",
       "4         0.984375  \n",
       "...            ...  \n",
       "120057    0.003906  \n",
       "120058    0.992188  \n",
       "120059    0.788163  \n",
       "120060    0.000000  \n",
       "120061    0.003906  \n",
       "\n",
       "[120062 rows x 8 columns]"
      ]
     },
     "execution_count": 3,
     "metadata": {},
     "output_type": "execute_result"
    }
   ],
   "source": [
    "preds"
   ]
  },
  {
   "cell_type": "code",
   "execution_count": 4,
   "metadata": {},
   "outputs": [
    {
     "data": {
      "text/html": [
       "<div>\n",
       "<style scoped>\n",
       "    .dataframe tbody tr th:only-of-type {\n",
       "        vertical-align: middle;\n",
       "    }\n",
       "\n",
       "    .dataframe tbody tr th {\n",
       "        vertical-align: top;\n",
       "    }\n",
       "\n",
       "    .dataframe thead th {\n",
       "        text-align: right;\n",
       "    }\n",
       "</style>\n",
       "<table border=\"1\" class=\"dataframe\">\n",
       "  <thead>\n",
       "    <tr style=\"text-align: right;\">\n",
       "      <th></th>\n",
       "      <th>clip_name</th>\n",
       "      <th>frame_num</th>\n",
       "      <th>obj_type</th>\n",
       "      <th>x</th>\n",
       "      <th>y</th>\n",
       "      <th>w</th>\n",
       "      <th>h</th>\n",
       "      <th>label</th>\n",
       "    </tr>\n",
       "  </thead>\n",
       "  <tbody>\n",
       "    <tr>\n",
       "      <th>0</th>\n",
       "      <td>20191216_124707.mp4</td>\n",
       "      <td>1</td>\n",
       "      <td>Face</td>\n",
       "      <td>331</td>\n",
       "      <td>268</td>\n",
       "      <td>170</td>\n",
       "      <td>219</td>\n",
       "      <td>Straight</td>\n",
       "    </tr>\n",
       "    <tr>\n",
       "      <th>1</th>\n",
       "      <td>20191216_124707.mp4</td>\n",
       "      <td>1</td>\n",
       "      <td>Eyes</td>\n",
       "      <td>354</td>\n",
       "      <td>359</td>\n",
       "      <td>117</td>\n",
       "      <td>39</td>\n",
       "      <td>Open</td>\n",
       "    </tr>\n",
       "    <tr>\n",
       "      <th>2</th>\n",
       "      <td>20191216_124707.mp4</td>\n",
       "      <td>1</td>\n",
       "      <td>Mouth</td>\n",
       "      <td>379</td>\n",
       "      <td>435</td>\n",
       "      <td>63</td>\n",
       "      <td>23</td>\n",
       "      <td>Close</td>\n",
       "    </tr>\n",
       "    <tr>\n",
       "      <th>3</th>\n",
       "      <td>20191216_124707.mp4</td>\n",
       "      <td>2</td>\n",
       "      <td>Face</td>\n",
       "      <td>331</td>\n",
       "      <td>268</td>\n",
       "      <td>170</td>\n",
       "      <td>219</td>\n",
       "      <td>Straight</td>\n",
       "    </tr>\n",
       "    <tr>\n",
       "      <th>4</th>\n",
       "      <td>20191216_124707.mp4</td>\n",
       "      <td>2</td>\n",
       "      <td>Eyes</td>\n",
       "      <td>354</td>\n",
       "      <td>359</td>\n",
       "      <td>117</td>\n",
       "      <td>39</td>\n",
       "      <td>Open</td>\n",
       "    </tr>\n",
       "    <tr>\n",
       "      <th>...</th>\n",
       "      <td>...</td>\n",
       "      <td>...</td>\n",
       "      <td>...</td>\n",
       "      <td>...</td>\n",
       "      <td>...</td>\n",
       "      <td>...</td>\n",
       "      <td>...</td>\n",
       "      <td>...</td>\n",
       "    </tr>\n",
       "    <tr>\n",
       "      <th>110403</th>\n",
       "      <td>20191216_123222.mp4</td>\n",
       "      <td>5116</td>\n",
       "      <td>Mouth</td>\n",
       "      <td>285</td>\n",
       "      <td>447</td>\n",
       "      <td>58</td>\n",
       "      <td>24</td>\n",
       "      <td>Close</td>\n",
       "    </tr>\n",
       "    <tr>\n",
       "      <th>110404</th>\n",
       "      <td>20191216_123222.mp4</td>\n",
       "      <td>5117</td>\n",
       "      <td>Face</td>\n",
       "      <td>220</td>\n",
       "      <td>287</td>\n",
       "      <td>167</td>\n",
       "      <td>206</td>\n",
       "      <td>Straight</td>\n",
       "    </tr>\n",
       "    <tr>\n",
       "      <th>110405</th>\n",
       "      <td>20191216_123222.mp4</td>\n",
       "      <td>5117</td>\n",
       "      <td>Glasses</td>\n",
       "      <td>233</td>\n",
       "      <td>383</td>\n",
       "      <td>152</td>\n",
       "      <td>39</td>\n",
       "      <td>Unknown</td>\n",
       "    </tr>\n",
       "    <tr>\n",
       "      <th>110406</th>\n",
       "      <td>20191216_123222.mp4</td>\n",
       "      <td>5117</td>\n",
       "      <td>Eyes</td>\n",
       "      <td>266</td>\n",
       "      <td>373</td>\n",
       "      <td>108</td>\n",
       "      <td>39</td>\n",
       "      <td>Unknown</td>\n",
       "    </tr>\n",
       "    <tr>\n",
       "      <th>110407</th>\n",
       "      <td>20191216_123222.mp4</td>\n",
       "      <td>5117</td>\n",
       "      <td>Mouth</td>\n",
       "      <td>282</td>\n",
       "      <td>447</td>\n",
       "      <td>61</td>\n",
       "      <td>24</td>\n",
       "      <td>Close</td>\n",
       "    </tr>\n",
       "  </tbody>\n",
       "</table>\n",
       "<p>110408 rows × 8 columns</p>\n",
       "</div>"
      ],
      "text/plain": [
       "                  clip_name  frame_num obj_type    x    y    w    h     label\n",
       "0       20191216_124707.mp4          1     Face  331  268  170  219  Straight\n",
       "1       20191216_124707.mp4          1     Eyes  354  359  117   39      Open\n",
       "2       20191216_124707.mp4          1    Mouth  379  435   63   23     Close\n",
       "3       20191216_124707.mp4          2     Face  331  268  170  219  Straight\n",
       "4       20191216_124707.mp4          2     Eyes  354  359  117   39      Open\n",
       "...                     ...        ...      ...  ...  ...  ...  ...       ...\n",
       "110403  20191216_123222.mp4       5116    Mouth  285  447   58   24     Close\n",
       "110404  20191216_123222.mp4       5117     Face  220  287  167  206  Straight\n",
       "110405  20191216_123222.mp4       5117  Glasses  233  383  152   39   Unknown\n",
       "110406  20191216_123222.mp4       5117     Eyes  266  373  108   39   Unknown\n",
       "110407  20191216_123222.mp4       5117    Mouth  282  447   61   24     Close\n",
       "\n",
       "[110408 rows x 8 columns]"
      ]
     },
     "execution_count": 4,
     "metadata": {},
     "output_type": "execute_result"
    }
   ],
   "source": [
    "gt"
   ]
  },
  {
   "cell_type": "code",
   "execution_count": 5,
   "metadata": {},
   "outputs": [
    {
     "data": {
      "text/plain": [
       "Straight    17128\n",
       "Unknown      4417\n",
       "Side         3979\n",
       "Down         1822\n",
       "Up           1445\n",
       "Name: label, dtype: int64"
      ]
     },
     "execution_count": 5,
     "metadata": {},
     "output_type": "execute_result"
    }
   ],
   "source": [
    "gt[gt['obj_type'] == 'Face']['label'].value_counts()"
   ]
  },
  {
   "cell_type": "code",
   "execution_count": 6,
   "metadata": {},
   "outputs": [
    {
     "data": {
      "text/plain": [
       "Face         28791\n",
       "Eyes         28681\n",
       "Mouth        28651\n",
       "Glasses      19828\n",
       "Cellphone     4457\n",
       "Name: obj_type, dtype: int64"
      ]
     },
     "execution_count": 6,
     "metadata": {},
     "output_type": "execute_result"
    }
   ],
   "source": [
    "gt['obj_type'].value_counts()"
   ]
  },
  {
   "cell_type": "code",
   "execution_count": 7,
   "metadata": {},
   "outputs": [
    {
     "data": {
      "text/plain": [
       "Face           28661\n",
       "Mouth          28661\n",
       "SeatbeltNo     28176\n",
       "Glasses        16880\n",
       "Eyes            8718\n",
       "Cellphone       4992\n",
       "Sunglasses      3358\n",
       "SeatbeltYes      616\n",
       "Name: obj_type, dtype: int64"
      ]
     },
     "execution_count": 7,
     "metadata": {},
     "output_type": "execute_result"
    }
   ],
   "source": [
    "preds['obj_type'].value_counts()"
   ]
  },
  {
   "cell_type": "code",
   "execution_count": 8,
   "metadata": {},
   "outputs": [],
   "source": [
    "obj_types = gt['obj_type'].unique()"
   ]
  },
  {
   "cell_type": "code",
   "execution_count": 9,
   "metadata": {},
   "outputs": [],
   "source": [
    "preds = preds[preds['obj_type'].isin(obj_types)]"
   ]
  },
  {
   "cell_type": "code",
   "execution_count": 10,
   "metadata": {},
   "outputs": [
    {
     "data": {
      "text/plain": [
       "Face         28661\n",
       "Mouth        28661\n",
       "Glasses      16880\n",
       "Eyes          8718\n",
       "Cellphone     4992\n",
       "Name: obj_type, dtype: int64"
      ]
     },
     "execution_count": 10,
     "metadata": {},
     "output_type": "execute_result"
    }
   ],
   "source": [
    "preds['obj_type'].value_counts()"
   ]
  },
  {
   "attachments": {},
   "cell_type": "markdown",
   "metadata": {},
   "source": []
  },
  {
   "attachments": {},
   "cell_type": "markdown",
   "metadata": {},
   "source": [
    "Пример кадра, на котором есть метки, которые модель не распознала (False Negative)"
   ]
  },
  {
   "cell_type": "code",
   "execution_count": 11,
   "metadata": {},
   "outputs": [
    {
     "data": {
      "text/html": [
       "<div>\n",
       "<style scoped>\n",
       "    .dataframe tbody tr th:only-of-type {\n",
       "        vertical-align: middle;\n",
       "    }\n",
       "\n",
       "    .dataframe tbody tr th {\n",
       "        vertical-align: top;\n",
       "    }\n",
       "\n",
       "    .dataframe thead th {\n",
       "        text-align: right;\n",
       "    }\n",
       "</style>\n",
       "<table border=\"1\" class=\"dataframe\">\n",
       "  <thead>\n",
       "    <tr style=\"text-align: right;\">\n",
       "      <th></th>\n",
       "      <th>clip_name</th>\n",
       "      <th>frame_num</th>\n",
       "      <th>obj_type</th>\n",
       "      <th>x</th>\n",
       "      <th>y</th>\n",
       "      <th>w</th>\n",
       "      <th>h</th>\n",
       "      <th>label</th>\n",
       "    </tr>\n",
       "  </thead>\n",
       "  <tbody>\n",
       "    <tr>\n",
       "      <th>103401</th>\n",
       "      <td>20191216_123222.mp4</td>\n",
       "      <td>3592</td>\n",
       "      <td>Face</td>\n",
       "      <td>195</td>\n",
       "      <td>278</td>\n",
       "      <td>190</td>\n",
       "      <td>245</td>\n",
       "      <td>Unknown</td>\n",
       "    </tr>\n",
       "    <tr>\n",
       "      <th>103402</th>\n",
       "      <td>20191216_123222.mp4</td>\n",
       "      <td>3592</td>\n",
       "      <td>Glasses</td>\n",
       "      <td>213</td>\n",
       "      <td>400</td>\n",
       "      <td>156</td>\n",
       "      <td>60</td>\n",
       "      <td>Unknown</td>\n",
       "    </tr>\n",
       "    <tr>\n",
       "      <th>103403</th>\n",
       "      <td>20191216_123222.mp4</td>\n",
       "      <td>3592</td>\n",
       "      <td>Eyes</td>\n",
       "      <td>235</td>\n",
       "      <td>412</td>\n",
       "      <td>117</td>\n",
       "      <td>35</td>\n",
       "      <td>Unknown</td>\n",
       "    </tr>\n",
       "    <tr>\n",
       "      <th>103404</th>\n",
       "      <td>20191216_123222.mp4</td>\n",
       "      <td>3592</td>\n",
       "      <td>Mouth</td>\n",
       "      <td>269</td>\n",
       "      <td>480</td>\n",
       "      <td>56</td>\n",
       "      <td>25</td>\n",
       "      <td>Close</td>\n",
       "    </tr>\n",
       "    <tr>\n",
       "      <th>103405</th>\n",
       "      <td>20191216_123222.mp4</td>\n",
       "      <td>3592</td>\n",
       "      <td>Cellphone</td>\n",
       "      <td>300</td>\n",
       "      <td>700</td>\n",
       "      <td>84</td>\n",
       "      <td>20</td>\n",
       "      <td>Hard</td>\n",
       "    </tr>\n",
       "  </tbody>\n",
       "</table>\n",
       "</div>"
      ],
      "text/plain": [
       "                  clip_name  frame_num   obj_type    x    y    w    h    label\n",
       "103401  20191216_123222.mp4       3592       Face  195  278  190  245  Unknown\n",
       "103402  20191216_123222.mp4       3592    Glasses  213  400  156   60  Unknown\n",
       "103403  20191216_123222.mp4       3592       Eyes  235  412  117   35  Unknown\n",
       "103404  20191216_123222.mp4       3592      Mouth  269  480   56   25    Close\n",
       "103405  20191216_123222.mp4       3592  Cellphone  300  700   84   20     Hard"
      ]
     },
     "execution_count": 11,
     "metadata": {},
     "output_type": "execute_result"
    }
   ],
   "source": [
    "gt.loc[(gt['clip_name'] == '20191216_123222.mp4') & (gt['frame_num'] == 3592)]"
   ]
  },
  {
   "cell_type": "code",
   "execution_count": 12,
   "metadata": {},
   "outputs": [
    {
     "data": {
      "text/html": [
       "<div>\n",
       "<style scoped>\n",
       "    .dataframe tbody tr th:only-of-type {\n",
       "        vertical-align: middle;\n",
       "    }\n",
       "\n",
       "    .dataframe tbody tr th {\n",
       "        vertical-align: top;\n",
       "    }\n",
       "\n",
       "    .dataframe thead th {\n",
       "        text-align: right;\n",
       "    }\n",
       "</style>\n",
       "<table border=\"1\" class=\"dataframe\">\n",
       "  <thead>\n",
       "    <tr style=\"text-align: right;\">\n",
       "      <th></th>\n",
       "      <th>clip_name</th>\n",
       "      <th>frame_num</th>\n",
       "      <th>obj_type</th>\n",
       "      <th>x</th>\n",
       "      <th>y</th>\n",
       "      <th>w</th>\n",
       "      <th>h</th>\n",
       "      <th>confidence</th>\n",
       "    </tr>\n",
       "  </thead>\n",
       "  <tbody>\n",
       "    <tr>\n",
       "      <th>14548</th>\n",
       "      <td>20191216_123222.mp4</td>\n",
       "      <td>3592</td>\n",
       "      <td>Glasses</td>\n",
       "      <td>224</td>\n",
       "      <td>402</td>\n",
       "      <td>146</td>\n",
       "      <td>62</td>\n",
       "      <td>0.769557</td>\n",
       "    </tr>\n",
       "    <tr>\n",
       "      <th>14549</th>\n",
       "      <td>20191216_123222.mp4</td>\n",
       "      <td>3592</td>\n",
       "      <td>Face</td>\n",
       "      <td>230</td>\n",
       "      <td>368</td>\n",
       "      <td>126</td>\n",
       "      <td>160</td>\n",
       "      <td>0.000000</td>\n",
       "    </tr>\n",
       "    <tr>\n",
       "      <th>14550</th>\n",
       "      <td>20191216_123222.mp4</td>\n",
       "      <td>3592</td>\n",
       "      <td>Mouth</td>\n",
       "      <td>238</td>\n",
       "      <td>464</td>\n",
       "      <td>114</td>\n",
       "      <td>56</td>\n",
       "      <td>0.003906</td>\n",
       "    </tr>\n",
       "  </tbody>\n",
       "</table>\n",
       "</div>"
      ],
      "text/plain": [
       "                 clip_name  frame_num obj_type    x    y    w    h  confidence\n",
       "14548  20191216_123222.mp4       3592  Glasses  224  402  146   62    0.769557\n",
       "14549  20191216_123222.mp4       3592     Face  230  368  126  160    0.000000\n",
       "14550  20191216_123222.mp4       3592    Mouth  238  464  114   56    0.003906"
      ]
     },
     "execution_count": 12,
     "metadata": {},
     "output_type": "execute_result"
    }
   ],
   "source": [
    "preds.loc[(preds['clip_name'] == '20191216_123222.mp4') & (preds['frame_num'] == 3592)]"
   ]
  },
  {
   "attachments": {},
   "cell_type": "markdown",
   "metadata": {},
   "source": []
  },
  {
   "attachments": {},
   "cell_type": "markdown",
   "metadata": {},
   "source": [
    "Пример кадра, на котором модель ложно распознала метки, которых нет (False Positive)"
   ]
  },
  {
   "cell_type": "code",
   "execution_count": 13,
   "metadata": {},
   "outputs": [
    {
     "data": {
      "text/html": [
       "<div>\n",
       "<style scoped>\n",
       "    .dataframe tbody tr th:only-of-type {\n",
       "        vertical-align: middle;\n",
       "    }\n",
       "\n",
       "    .dataframe tbody tr th {\n",
       "        vertical-align: top;\n",
       "    }\n",
       "\n",
       "    .dataframe thead th {\n",
       "        text-align: right;\n",
       "    }\n",
       "</style>\n",
       "<table border=\"1\" class=\"dataframe\">\n",
       "  <thead>\n",
       "    <tr style=\"text-align: right;\">\n",
       "      <th></th>\n",
       "      <th>clip_name</th>\n",
       "      <th>frame_num</th>\n",
       "      <th>obj_type</th>\n",
       "      <th>x</th>\n",
       "      <th>y</th>\n",
       "      <th>w</th>\n",
       "      <th>h</th>\n",
       "      <th>label</th>\n",
       "    </tr>\n",
       "  </thead>\n",
       "  <tbody>\n",
       "    <tr>\n",
       "      <th>91718</th>\n",
       "      <td>20191216_123222.mp4</td>\n",
       "      <td>68</td>\n",
       "      <td>Face</td>\n",
       "      <td>163</td>\n",
       "      <td>280</td>\n",
       "      <td>235</td>\n",
       "      <td>202</td>\n",
       "      <td>Side</td>\n",
       "    </tr>\n",
       "    <tr>\n",
       "      <th>91719</th>\n",
       "      <td>20191216_123222.mp4</td>\n",
       "      <td>68</td>\n",
       "      <td>Mouth</td>\n",
       "      <td>177</td>\n",
       "      <td>434</td>\n",
       "      <td>22</td>\n",
       "      <td>23</td>\n",
       "      <td>Close</td>\n",
       "    </tr>\n",
       "    <tr>\n",
       "      <th>91720</th>\n",
       "      <td>20191216_123222.mp4</td>\n",
       "      <td>68</td>\n",
       "      <td>Eyes</td>\n",
       "      <td>185</td>\n",
       "      <td>371</td>\n",
       "      <td>33</td>\n",
       "      <td>32</td>\n",
       "      <td>Unknown</td>\n",
       "    </tr>\n",
       "  </tbody>\n",
       "</table>\n",
       "</div>"
      ],
      "text/plain": [
       "                 clip_name  frame_num obj_type    x    y    w    h    label\n",
       "91718  20191216_123222.mp4         68     Face  163  280  235  202     Side\n",
       "91719  20191216_123222.mp4         68    Mouth  177  434   22   23    Close\n",
       "91720  20191216_123222.mp4         68     Eyes  185  371   33   32  Unknown"
      ]
     },
     "execution_count": 13,
     "metadata": {},
     "output_type": "execute_result"
    }
   ],
   "source": [
    "gt.loc[(gt['clip_name'] == '20191216_123222.mp4') & (gt['frame_num'] == 68)]"
   ]
  },
  {
   "cell_type": "code",
   "execution_count": 14,
   "metadata": {},
   "outputs": [
    {
     "data": {
      "text/html": [
       "<div>\n",
       "<style scoped>\n",
       "    .dataframe tbody tr th:only-of-type {\n",
       "        vertical-align: middle;\n",
       "    }\n",
       "\n",
       "    .dataframe tbody tr th {\n",
       "        vertical-align: top;\n",
       "    }\n",
       "\n",
       "    .dataframe thead th {\n",
       "        text-align: right;\n",
       "    }\n",
       "</style>\n",
       "<table border=\"1\" class=\"dataframe\">\n",
       "  <thead>\n",
       "    <tr style=\"text-align: right;\">\n",
       "      <th></th>\n",
       "      <th>clip_name</th>\n",
       "      <th>frame_num</th>\n",
       "      <th>obj_type</th>\n",
       "      <th>x</th>\n",
       "      <th>y</th>\n",
       "      <th>w</th>\n",
       "      <th>h</th>\n",
       "      <th>confidence</th>\n",
       "    </tr>\n",
       "  </thead>\n",
       "  <tbody>\n",
       "    <tr>\n",
       "      <th>258</th>\n",
       "      <td>20191216_123222.mp4</td>\n",
       "      <td>68</td>\n",
       "      <td>Mouth</td>\n",
       "      <td>140</td>\n",
       "      <td>416</td>\n",
       "      <td>100</td>\n",
       "      <td>50</td>\n",
       "      <td>0.003906</td>\n",
       "    </tr>\n",
       "    <tr>\n",
       "      <th>259</th>\n",
       "      <td>20191216_123222.mp4</td>\n",
       "      <td>68</td>\n",
       "      <td>Eyes</td>\n",
       "      <td>144</td>\n",
       "      <td>364</td>\n",
       "      <td>100</td>\n",
       "      <td>50</td>\n",
       "      <td>0.312500</td>\n",
       "    </tr>\n",
       "    <tr>\n",
       "      <th>261</th>\n",
       "      <td>20191216_123222.mp4</td>\n",
       "      <td>68</td>\n",
       "      <td>Face</td>\n",
       "      <td>170</td>\n",
       "      <td>340</td>\n",
       "      <td>96</td>\n",
       "      <td>142</td>\n",
       "      <td>0.000000</td>\n",
       "    </tr>\n",
       "    <tr>\n",
       "      <th>262</th>\n",
       "      <td>20191216_123222.mp4</td>\n",
       "      <td>68</td>\n",
       "      <td>Cellphone</td>\n",
       "      <td>224</td>\n",
       "      <td>546</td>\n",
       "      <td>138</td>\n",
       "      <td>72</td>\n",
       "      <td>0.552914</td>\n",
       "    </tr>\n",
       "  </tbody>\n",
       "</table>\n",
       "</div>"
      ],
      "text/plain": [
       "               clip_name  frame_num   obj_type    x    y    w    h  confidence\n",
       "258  20191216_123222.mp4         68      Mouth  140  416  100   50    0.003906\n",
       "259  20191216_123222.mp4         68       Eyes  144  364  100   50    0.312500\n",
       "261  20191216_123222.mp4         68       Face  170  340   96  142    0.000000\n",
       "262  20191216_123222.mp4         68  Cellphone  224  546  138   72    0.552914"
      ]
     },
     "execution_count": 14,
     "metadata": {},
     "output_type": "execute_result"
    }
   ],
   "source": [
    "preds.loc[(preds['clip_name'] == '20191216_123222.mp4') & (preds['frame_num'] == 68)]"
   ]
  },
  {
   "cell_type": "code",
   "execution_count": 15,
   "metadata": {},
   "outputs": [
    {
     "data": {
      "text/html": [
       "<div>\n",
       "<style scoped>\n",
       "    .dataframe tbody tr th:only-of-type {\n",
       "        vertical-align: middle;\n",
       "    }\n",
       "\n",
       "    .dataframe tbody tr th {\n",
       "        vertical-align: top;\n",
       "    }\n",
       "\n",
       "    .dataframe thead th {\n",
       "        text-align: right;\n",
       "    }\n",
       "</style>\n",
       "<table border=\"1\" class=\"dataframe\">\n",
       "  <thead>\n",
       "    <tr style=\"text-align: right;\">\n",
       "      <th></th>\n",
       "      <th>clip_name</th>\n",
       "      <th>frame_num</th>\n",
       "      <th>obj_type</th>\n",
       "      <th>x</th>\n",
       "      <th>y</th>\n",
       "      <th>w</th>\n",
       "      <th>h</th>\n",
       "      <th>confidence</th>\n",
       "    </tr>\n",
       "  </thead>\n",
       "  <tbody>\n",
       "    <tr>\n",
       "      <th>262</th>\n",
       "      <td>20191216_123222.mp4</td>\n",
       "      <td>68</td>\n",
       "      <td>Cellphone</td>\n",
       "      <td>224</td>\n",
       "      <td>546</td>\n",
       "      <td>138</td>\n",
       "      <td>72</td>\n",
       "      <td>0.552914</td>\n",
       "    </tr>\n",
       "    <tr>\n",
       "      <th>271</th>\n",
       "      <td>20191216_123222.mp4</td>\n",
       "      <td>70</td>\n",
       "      <td>Cellphone</td>\n",
       "      <td>222</td>\n",
       "      <td>542</td>\n",
       "      <td>142</td>\n",
       "      <td>68</td>\n",
       "      <td>0.552914</td>\n",
       "    </tr>\n",
       "    <tr>\n",
       "      <th>413</th>\n",
       "      <td>20191216_123222.mp4</td>\n",
       "      <td>106</td>\n",
       "      <td>Cellphone</td>\n",
       "      <td>222</td>\n",
       "      <td>548</td>\n",
       "      <td>136</td>\n",
       "      <td>56</td>\n",
       "      <td>0.558194</td>\n",
       "    </tr>\n",
       "    <tr>\n",
       "      <th>418</th>\n",
       "      <td>20191216_123222.mp4</td>\n",
       "      <td>107</td>\n",
       "      <td>Cellphone</td>\n",
       "      <td>220</td>\n",
       "      <td>546</td>\n",
       "      <td>134</td>\n",
       "      <td>62</td>\n",
       "      <td>0.525194</td>\n",
       "    </tr>\n",
       "    <tr>\n",
       "      <th>423</th>\n",
       "      <td>20191216_123222.mp4</td>\n",
       "      <td>108</td>\n",
       "      <td>Cellphone</td>\n",
       "      <td>228</td>\n",
       "      <td>544</td>\n",
       "      <td>132</td>\n",
       "      <td>60</td>\n",
       "      <td>0.543845</td>\n",
       "    </tr>\n",
       "    <tr>\n",
       "      <th>...</th>\n",
       "      <td>...</td>\n",
       "      <td>...</td>\n",
       "      <td>...</td>\n",
       "      <td>...</td>\n",
       "      <td>...</td>\n",
       "      <td>...</td>\n",
       "      <td>...</td>\n",
       "      <td>...</td>\n",
       "    </tr>\n",
       "    <tr>\n",
       "      <th>18618</th>\n",
       "      <td>20191216_123222.mp4</td>\n",
       "      <td>4457</td>\n",
       "      <td>Cellphone</td>\n",
       "      <td>202</td>\n",
       "      <td>410</td>\n",
       "      <td>46</td>\n",
       "      <td>106</td>\n",
       "      <td>0.510330</td>\n",
       "    </tr>\n",
       "    <tr>\n",
       "      <th>19027</th>\n",
       "      <td>20191216_123222.mp4</td>\n",
       "      <td>4559</td>\n",
       "      <td>Cellphone</td>\n",
       "      <td>192</td>\n",
       "      <td>408</td>\n",
       "      <td>54</td>\n",
       "      <td>100</td>\n",
       "      <td>0.509747</td>\n",
       "    </tr>\n",
       "    <tr>\n",
       "      <th>19032</th>\n",
       "      <td>20191216_123222.mp4</td>\n",
       "      <td>4560</td>\n",
       "      <td>Cellphone</td>\n",
       "      <td>186</td>\n",
       "      <td>412</td>\n",
       "      <td>58</td>\n",
       "      <td>100</td>\n",
       "      <td>0.590903</td>\n",
       "    </tr>\n",
       "    <tr>\n",
       "      <th>19538</th>\n",
       "      <td>20191216_123222.mp4</td>\n",
       "      <td>4686</td>\n",
       "      <td>Cellphone</td>\n",
       "      <td>236</td>\n",
       "      <td>508</td>\n",
       "      <td>130</td>\n",
       "      <td>74</td>\n",
       "      <td>0.579531</td>\n",
       "    </tr>\n",
       "    <tr>\n",
       "      <th>19540</th>\n",
       "      <td>20191216_123222.mp4</td>\n",
       "      <td>4687</td>\n",
       "      <td>Cellphone</td>\n",
       "      <td>214</td>\n",
       "      <td>500</td>\n",
       "      <td>144</td>\n",
       "      <td>84</td>\n",
       "      <td>0.673247</td>\n",
       "    </tr>\n",
       "  </tbody>\n",
       "</table>\n",
       "<p>757 rows × 8 columns</p>\n",
       "</div>"
      ],
      "text/plain": [
       "                 clip_name  frame_num   obj_type    x    y    w    h  \\\n",
       "262    20191216_123222.mp4         68  Cellphone  224  546  138   72   \n",
       "271    20191216_123222.mp4         70  Cellphone  222  542  142   68   \n",
       "413    20191216_123222.mp4        106  Cellphone  222  548  136   56   \n",
       "418    20191216_123222.mp4        107  Cellphone  220  546  134   62   \n",
       "423    20191216_123222.mp4        108  Cellphone  228  544  132   60   \n",
       "...                    ...        ...        ...  ...  ...  ...  ...   \n",
       "18618  20191216_123222.mp4       4457  Cellphone  202  410   46  106   \n",
       "19027  20191216_123222.mp4       4559  Cellphone  192  408   54  100   \n",
       "19032  20191216_123222.mp4       4560  Cellphone  186  412   58  100   \n",
       "19538  20191216_123222.mp4       4686  Cellphone  236  508  130   74   \n",
       "19540  20191216_123222.mp4       4687  Cellphone  214  500  144   84   \n",
       "\n",
       "       confidence  \n",
       "262      0.552914  \n",
       "271      0.552914  \n",
       "413      0.558194  \n",
       "418      0.525194  \n",
       "423      0.543845  \n",
       "...           ...  \n",
       "18618    0.510330  \n",
       "19027    0.509747  \n",
       "19032    0.590903  \n",
       "19538    0.579531  \n",
       "19540    0.673247  \n",
       "\n",
       "[757 rows x 8 columns]"
      ]
     },
     "execution_count": 15,
     "metadata": {},
     "output_type": "execute_result"
    }
   ],
   "source": [
    "preds.loc[(preds['clip_name'] == '20191216_123222.mp4') & (preds['obj_type'] == 'Cellphone')]"
   ]
  },
  {
   "attachments": {},
   "cell_type": "markdown",
   "metadata": {},
   "source": []
  },
  {
   "attachments": {},
   "cell_type": "markdown",
   "metadata": {},
   "source": [
    "Соединяю разметку и предсказания в один датафрейм"
   ]
  },
  {
   "cell_type": "code",
   "execution_count": 16,
   "metadata": {},
   "outputs": [],
   "source": [
    "df = gt.merge(preds, how='outer', left_on=['clip_name', 'frame_num', 'obj_type'], right_on=['clip_name', 'frame_num', 'obj_type'])"
   ]
  },
  {
   "cell_type": "code",
   "execution_count": 17,
   "metadata": {},
   "outputs": [
    {
     "data": {
      "text/html": [
       "<div>\n",
       "<style scoped>\n",
       "    .dataframe tbody tr th:only-of-type {\n",
       "        vertical-align: middle;\n",
       "    }\n",
       "\n",
       "    .dataframe tbody tr th {\n",
       "        vertical-align: top;\n",
       "    }\n",
       "\n",
       "    .dataframe thead th {\n",
       "        text-align: right;\n",
       "    }\n",
       "</style>\n",
       "<table border=\"1\" class=\"dataframe\">\n",
       "  <thead>\n",
       "    <tr style=\"text-align: right;\">\n",
       "      <th></th>\n",
       "      <th>clip_name</th>\n",
       "      <th>frame_num</th>\n",
       "      <th>obj_type</th>\n",
       "      <th>x_x</th>\n",
       "      <th>y_x</th>\n",
       "      <th>w_x</th>\n",
       "      <th>h_x</th>\n",
       "      <th>label</th>\n",
       "      <th>x_y</th>\n",
       "      <th>y_y</th>\n",
       "      <th>w_y</th>\n",
       "      <th>h_y</th>\n",
       "      <th>confidence</th>\n",
       "    </tr>\n",
       "  </thead>\n",
       "  <tbody>\n",
       "    <tr>\n",
       "      <th>0</th>\n",
       "      <td>20191216_124707.mp4</td>\n",
       "      <td>1</td>\n",
       "      <td>Face</td>\n",
       "      <td>331.0</td>\n",
       "      <td>268.0</td>\n",
       "      <td>170.0</td>\n",
       "      <td>219.0</td>\n",
       "      <td>Straight</td>\n",
       "      <td>NaN</td>\n",
       "      <td>NaN</td>\n",
       "      <td>NaN</td>\n",
       "      <td>NaN</td>\n",
       "      <td>NaN</td>\n",
       "    </tr>\n",
       "    <tr>\n",
       "      <th>1</th>\n",
       "      <td>20191216_124707.mp4</td>\n",
       "      <td>1</td>\n",
       "      <td>Eyes</td>\n",
       "      <td>354.0</td>\n",
       "      <td>359.0</td>\n",
       "      <td>117.0</td>\n",
       "      <td>39.0</td>\n",
       "      <td>Open</td>\n",
       "      <td>NaN</td>\n",
       "      <td>NaN</td>\n",
       "      <td>NaN</td>\n",
       "      <td>NaN</td>\n",
       "      <td>NaN</td>\n",
       "    </tr>\n",
       "    <tr>\n",
       "      <th>2</th>\n",
       "      <td>20191216_124707.mp4</td>\n",
       "      <td>1</td>\n",
       "      <td>Mouth</td>\n",
       "      <td>379.0</td>\n",
       "      <td>435.0</td>\n",
       "      <td>63.0</td>\n",
       "      <td>23.0</td>\n",
       "      <td>Close</td>\n",
       "      <td>NaN</td>\n",
       "      <td>NaN</td>\n",
       "      <td>NaN</td>\n",
       "      <td>NaN</td>\n",
       "      <td>NaN</td>\n",
       "    </tr>\n",
       "    <tr>\n",
       "      <th>3</th>\n",
       "      <td>20191216_124707.mp4</td>\n",
       "      <td>2</td>\n",
       "      <td>Face</td>\n",
       "      <td>331.0</td>\n",
       "      <td>268.0</td>\n",
       "      <td>170.0</td>\n",
       "      <td>219.0</td>\n",
       "      <td>Straight</td>\n",
       "      <td>NaN</td>\n",
       "      <td>NaN</td>\n",
       "      <td>NaN</td>\n",
       "      <td>NaN</td>\n",
       "      <td>NaN</td>\n",
       "    </tr>\n",
       "    <tr>\n",
       "      <th>4</th>\n",
       "      <td>20191216_124707.mp4</td>\n",
       "      <td>2</td>\n",
       "      <td>Eyes</td>\n",
       "      <td>354.0</td>\n",
       "      <td>359.0</td>\n",
       "      <td>117.0</td>\n",
       "      <td>39.0</td>\n",
       "      <td>Open</td>\n",
       "      <td>NaN</td>\n",
       "      <td>NaN</td>\n",
       "      <td>NaN</td>\n",
       "      <td>NaN</td>\n",
       "      <td>NaN</td>\n",
       "    </tr>\n",
       "    <tr>\n",
       "      <th>...</th>\n",
       "      <td>...</td>\n",
       "      <td>...</td>\n",
       "      <td>...</td>\n",
       "      <td>...</td>\n",
       "      <td>...</td>\n",
       "      <td>...</td>\n",
       "      <td>...</td>\n",
       "      <td>...</td>\n",
       "      <td>...</td>\n",
       "      <td>...</td>\n",
       "      <td>...</td>\n",
       "      <td>...</td>\n",
       "      <td>...</td>\n",
       "    </tr>\n",
       "    <tr>\n",
       "      <th>111760</th>\n",
       "      <td>20191216_125644.mp4</td>\n",
       "      <td>4543</td>\n",
       "      <td>Cellphone</td>\n",
       "      <td>NaN</td>\n",
       "      <td>NaN</td>\n",
       "      <td>NaN</td>\n",
       "      <td>NaN</td>\n",
       "      <td>NaN</td>\n",
       "      <td>328.0</td>\n",
       "      <td>312.0</td>\n",
       "      <td>130.0</td>\n",
       "      <td>84.0</td>\n",
       "      <td>0.535763</td>\n",
       "    </tr>\n",
       "    <tr>\n",
       "      <th>111761</th>\n",
       "      <td>20191216_125644.mp4</td>\n",
       "      <td>4544</td>\n",
       "      <td>Cellphone</td>\n",
       "      <td>NaN</td>\n",
       "      <td>NaN</td>\n",
       "      <td>NaN</td>\n",
       "      <td>NaN</td>\n",
       "      <td>NaN</td>\n",
       "      <td>326.0</td>\n",
       "      <td>320.0</td>\n",
       "      <td>96.0</td>\n",
       "      <td>86.0</td>\n",
       "      <td>0.514744</td>\n",
       "    </tr>\n",
       "    <tr>\n",
       "      <th>111762</th>\n",
       "      <td>20191216_125644.mp4</td>\n",
       "      <td>4546</td>\n",
       "      <td>Cellphone</td>\n",
       "      <td>NaN</td>\n",
       "      <td>NaN</td>\n",
       "      <td>NaN</td>\n",
       "      <td>NaN</td>\n",
       "      <td>NaN</td>\n",
       "      <td>336.0</td>\n",
       "      <td>328.0</td>\n",
       "      <td>100.0</td>\n",
       "      <td>78.0</td>\n",
       "      <td>0.534980</td>\n",
       "    </tr>\n",
       "    <tr>\n",
       "      <th>111763</th>\n",
       "      <td>20191216_125644.mp4</td>\n",
       "      <td>4547</td>\n",
       "      <td>Cellphone</td>\n",
       "      <td>NaN</td>\n",
       "      <td>NaN</td>\n",
       "      <td>NaN</td>\n",
       "      <td>NaN</td>\n",
       "      <td>NaN</td>\n",
       "      <td>334.0</td>\n",
       "      <td>320.0</td>\n",
       "      <td>126.0</td>\n",
       "      <td>80.0</td>\n",
       "      <td>0.517314</td>\n",
       "    </tr>\n",
       "    <tr>\n",
       "      <th>111764</th>\n",
       "      <td>20191216_125644.mp4</td>\n",
       "      <td>4548</td>\n",
       "      <td>Cellphone</td>\n",
       "      <td>NaN</td>\n",
       "      <td>NaN</td>\n",
       "      <td>NaN</td>\n",
       "      <td>NaN</td>\n",
       "      <td>NaN</td>\n",
       "      <td>324.0</td>\n",
       "      <td>310.0</td>\n",
       "      <td>128.0</td>\n",
       "      <td>78.0</td>\n",
       "      <td>0.526021</td>\n",
       "    </tr>\n",
       "  </tbody>\n",
       "</table>\n",
       "<p>111765 rows × 13 columns</p>\n",
       "</div>"
      ],
      "text/plain": [
       "                  clip_name  frame_num   obj_type    x_x    y_x    w_x    h_x  \\\n",
       "0       20191216_124707.mp4          1       Face  331.0  268.0  170.0  219.0   \n",
       "1       20191216_124707.mp4          1       Eyes  354.0  359.0  117.0   39.0   \n",
       "2       20191216_124707.mp4          1      Mouth  379.0  435.0   63.0   23.0   \n",
       "3       20191216_124707.mp4          2       Face  331.0  268.0  170.0  219.0   \n",
       "4       20191216_124707.mp4          2       Eyes  354.0  359.0  117.0   39.0   \n",
       "...                     ...        ...        ...    ...    ...    ...    ...   \n",
       "111760  20191216_125644.mp4       4543  Cellphone    NaN    NaN    NaN    NaN   \n",
       "111761  20191216_125644.mp4       4544  Cellphone    NaN    NaN    NaN    NaN   \n",
       "111762  20191216_125644.mp4       4546  Cellphone    NaN    NaN    NaN    NaN   \n",
       "111763  20191216_125644.mp4       4547  Cellphone    NaN    NaN    NaN    NaN   \n",
       "111764  20191216_125644.mp4       4548  Cellphone    NaN    NaN    NaN    NaN   \n",
       "\n",
       "           label    x_y    y_y    w_y   h_y  confidence  \n",
       "0       Straight    NaN    NaN    NaN   NaN         NaN  \n",
       "1           Open    NaN    NaN    NaN   NaN         NaN  \n",
       "2          Close    NaN    NaN    NaN   NaN         NaN  \n",
       "3       Straight    NaN    NaN    NaN   NaN         NaN  \n",
       "4           Open    NaN    NaN    NaN   NaN         NaN  \n",
       "...          ...    ...    ...    ...   ...         ...  \n",
       "111760       NaN  328.0  312.0  130.0  84.0    0.535763  \n",
       "111761       NaN  326.0  320.0   96.0  86.0    0.514744  \n",
       "111762       NaN  336.0  328.0  100.0  78.0    0.534980  \n",
       "111763       NaN  334.0  320.0  126.0  80.0    0.517314  \n",
       "111764       NaN  324.0  310.0  128.0  78.0    0.526021  \n",
       "\n",
       "[111765 rows x 13 columns]"
      ]
     },
     "execution_count": 17,
     "metadata": {},
     "output_type": "execute_result"
    }
   ],
   "source": [
    "df"
   ]
  },
  {
   "cell_type": "code",
   "execution_count": 18,
   "metadata": {},
   "outputs": [
    {
     "data": {
      "text/html": [
       "<div>\n",
       "<style scoped>\n",
       "    .dataframe tbody tr th:only-of-type {\n",
       "        vertical-align: middle;\n",
       "    }\n",
       "\n",
       "    .dataframe tbody tr th {\n",
       "        vertical-align: top;\n",
       "    }\n",
       "\n",
       "    .dataframe thead th {\n",
       "        text-align: right;\n",
       "    }\n",
       "</style>\n",
       "<table border=\"1\" class=\"dataframe\">\n",
       "  <thead>\n",
       "    <tr style=\"text-align: right;\">\n",
       "      <th></th>\n",
       "      <th>clip_name</th>\n",
       "      <th>frame_num</th>\n",
       "      <th>obj_type</th>\n",
       "      <th>x_x</th>\n",
       "      <th>y_x</th>\n",
       "      <th>w_x</th>\n",
       "      <th>h_x</th>\n",
       "      <th>label</th>\n",
       "      <th>x_y</th>\n",
       "      <th>y_y</th>\n",
       "      <th>w_y</th>\n",
       "      <th>h_y</th>\n",
       "      <th>confidence</th>\n",
       "    </tr>\n",
       "  </thead>\n",
       "  <tbody>\n",
       "    <tr>\n",
       "      <th>103401</th>\n",
       "      <td>20191216_123222.mp4</td>\n",
       "      <td>3592</td>\n",
       "      <td>Face</td>\n",
       "      <td>195.0</td>\n",
       "      <td>278.0</td>\n",
       "      <td>190.0</td>\n",
       "      <td>245.0</td>\n",
       "      <td>Unknown</td>\n",
       "      <td>230.0</td>\n",
       "      <td>368.0</td>\n",
       "      <td>126.0</td>\n",
       "      <td>160.0</td>\n",
       "      <td>0.000000</td>\n",
       "    </tr>\n",
       "    <tr>\n",
       "      <th>103402</th>\n",
       "      <td>20191216_123222.mp4</td>\n",
       "      <td>3592</td>\n",
       "      <td>Glasses</td>\n",
       "      <td>213.0</td>\n",
       "      <td>400.0</td>\n",
       "      <td>156.0</td>\n",
       "      <td>60.0</td>\n",
       "      <td>Unknown</td>\n",
       "      <td>224.0</td>\n",
       "      <td>402.0</td>\n",
       "      <td>146.0</td>\n",
       "      <td>62.0</td>\n",
       "      <td>0.769557</td>\n",
       "    </tr>\n",
       "    <tr>\n",
       "      <th>103403</th>\n",
       "      <td>20191216_123222.mp4</td>\n",
       "      <td>3592</td>\n",
       "      <td>Eyes</td>\n",
       "      <td>235.0</td>\n",
       "      <td>412.0</td>\n",
       "      <td>117.0</td>\n",
       "      <td>35.0</td>\n",
       "      <td>Unknown</td>\n",
       "      <td>NaN</td>\n",
       "      <td>NaN</td>\n",
       "      <td>NaN</td>\n",
       "      <td>NaN</td>\n",
       "      <td>NaN</td>\n",
       "    </tr>\n",
       "    <tr>\n",
       "      <th>103404</th>\n",
       "      <td>20191216_123222.mp4</td>\n",
       "      <td>3592</td>\n",
       "      <td>Mouth</td>\n",
       "      <td>269.0</td>\n",
       "      <td>480.0</td>\n",
       "      <td>56.0</td>\n",
       "      <td>25.0</td>\n",
       "      <td>Close</td>\n",
       "      <td>238.0</td>\n",
       "      <td>464.0</td>\n",
       "      <td>114.0</td>\n",
       "      <td>56.0</td>\n",
       "      <td>0.003906</td>\n",
       "    </tr>\n",
       "    <tr>\n",
       "      <th>103405</th>\n",
       "      <td>20191216_123222.mp4</td>\n",
       "      <td>3592</td>\n",
       "      <td>Cellphone</td>\n",
       "      <td>300.0</td>\n",
       "      <td>700.0</td>\n",
       "      <td>84.0</td>\n",
       "      <td>20.0</td>\n",
       "      <td>Hard</td>\n",
       "      <td>NaN</td>\n",
       "      <td>NaN</td>\n",
       "      <td>NaN</td>\n",
       "      <td>NaN</td>\n",
       "      <td>NaN</td>\n",
       "    </tr>\n",
       "  </tbody>\n",
       "</table>\n",
       "</div>"
      ],
      "text/plain": [
       "                  clip_name  frame_num   obj_type    x_x    y_x    w_x    h_x  \\\n",
       "103401  20191216_123222.mp4       3592       Face  195.0  278.0  190.0  245.0   \n",
       "103402  20191216_123222.mp4       3592    Glasses  213.0  400.0  156.0   60.0   \n",
       "103403  20191216_123222.mp4       3592       Eyes  235.0  412.0  117.0   35.0   \n",
       "103404  20191216_123222.mp4       3592      Mouth  269.0  480.0   56.0   25.0   \n",
       "103405  20191216_123222.mp4       3592  Cellphone  300.0  700.0   84.0   20.0   \n",
       "\n",
       "          label    x_y    y_y    w_y    h_y  confidence  \n",
       "103401  Unknown  230.0  368.0  126.0  160.0    0.000000  \n",
       "103402  Unknown  224.0  402.0  146.0   62.0    0.769557  \n",
       "103403  Unknown    NaN    NaN    NaN    NaN         NaN  \n",
       "103404    Close  238.0  464.0  114.0   56.0    0.003906  \n",
       "103405     Hard    NaN    NaN    NaN    NaN         NaN  "
      ]
     },
     "execution_count": 18,
     "metadata": {},
     "output_type": "execute_result"
    }
   ],
   "source": [
    "df.loc[(df['clip_name'] == '20191216_123222.mp4') & (df['frame_num'] == 3592)]"
   ]
  },
  {
   "cell_type": "code",
   "execution_count": 19,
   "metadata": {},
   "outputs": [
    {
     "data": {
      "text/html": [
       "<div>\n",
       "<style scoped>\n",
       "    .dataframe tbody tr th:only-of-type {\n",
       "        vertical-align: middle;\n",
       "    }\n",
       "\n",
       "    .dataframe tbody tr th {\n",
       "        vertical-align: top;\n",
       "    }\n",
       "\n",
       "    .dataframe thead th {\n",
       "        text-align: right;\n",
       "    }\n",
       "</style>\n",
       "<table border=\"1\" class=\"dataframe\">\n",
       "  <thead>\n",
       "    <tr style=\"text-align: right;\">\n",
       "      <th></th>\n",
       "      <th>clip_name</th>\n",
       "      <th>frame_num</th>\n",
       "      <th>obj_type</th>\n",
       "      <th>x_x</th>\n",
       "      <th>y_x</th>\n",
       "      <th>w_x</th>\n",
       "      <th>h_x</th>\n",
       "      <th>label</th>\n",
       "      <th>x_y</th>\n",
       "      <th>y_y</th>\n",
       "      <th>w_y</th>\n",
       "      <th>h_y</th>\n",
       "      <th>confidence</th>\n",
       "    </tr>\n",
       "  </thead>\n",
       "  <tbody>\n",
       "    <tr>\n",
       "      <th>91718</th>\n",
       "      <td>20191216_123222.mp4</td>\n",
       "      <td>68</td>\n",
       "      <td>Face</td>\n",
       "      <td>163.0</td>\n",
       "      <td>280.0</td>\n",
       "      <td>235.0</td>\n",
       "      <td>202.0</td>\n",
       "      <td>Side</td>\n",
       "      <td>170.0</td>\n",
       "      <td>340.0</td>\n",
       "      <td>96.0</td>\n",
       "      <td>142.0</td>\n",
       "      <td>0.000000</td>\n",
       "    </tr>\n",
       "    <tr>\n",
       "      <th>91719</th>\n",
       "      <td>20191216_123222.mp4</td>\n",
       "      <td>68</td>\n",
       "      <td>Mouth</td>\n",
       "      <td>177.0</td>\n",
       "      <td>434.0</td>\n",
       "      <td>22.0</td>\n",
       "      <td>23.0</td>\n",
       "      <td>Close</td>\n",
       "      <td>140.0</td>\n",
       "      <td>416.0</td>\n",
       "      <td>100.0</td>\n",
       "      <td>50.0</td>\n",
       "      <td>0.003906</td>\n",
       "    </tr>\n",
       "    <tr>\n",
       "      <th>91720</th>\n",
       "      <td>20191216_123222.mp4</td>\n",
       "      <td>68</td>\n",
       "      <td>Eyes</td>\n",
       "      <td>185.0</td>\n",
       "      <td>371.0</td>\n",
       "      <td>33.0</td>\n",
       "      <td>32.0</td>\n",
       "      <td>Unknown</td>\n",
       "      <td>144.0</td>\n",
       "      <td>364.0</td>\n",
       "      <td>100.0</td>\n",
       "      <td>50.0</td>\n",
       "      <td>0.312500</td>\n",
       "    </tr>\n",
       "    <tr>\n",
       "      <th>110410</th>\n",
       "      <td>20191216_123222.mp4</td>\n",
       "      <td>68</td>\n",
       "      <td>Cellphone</td>\n",
       "      <td>NaN</td>\n",
       "      <td>NaN</td>\n",
       "      <td>NaN</td>\n",
       "      <td>NaN</td>\n",
       "      <td>NaN</td>\n",
       "      <td>224.0</td>\n",
       "      <td>546.0</td>\n",
       "      <td>138.0</td>\n",
       "      <td>72.0</td>\n",
       "      <td>0.552914</td>\n",
       "    </tr>\n",
       "  </tbody>\n",
       "</table>\n",
       "</div>"
      ],
      "text/plain": [
       "                  clip_name  frame_num   obj_type    x_x    y_x    w_x    h_x  \\\n",
       "91718   20191216_123222.mp4         68       Face  163.0  280.0  235.0  202.0   \n",
       "91719   20191216_123222.mp4         68      Mouth  177.0  434.0   22.0   23.0   \n",
       "91720   20191216_123222.mp4         68       Eyes  185.0  371.0   33.0   32.0   \n",
       "110410  20191216_123222.mp4         68  Cellphone    NaN    NaN    NaN    NaN   \n",
       "\n",
       "          label    x_y    y_y    w_y    h_y  confidence  \n",
       "91718      Side  170.0  340.0   96.0  142.0    0.000000  \n",
       "91719     Close  140.0  416.0  100.0   50.0    0.003906  \n",
       "91720   Unknown  144.0  364.0  100.0   50.0    0.312500  \n",
       "110410      NaN  224.0  546.0  138.0   72.0    0.552914  "
      ]
     },
     "execution_count": 19,
     "metadata": {},
     "output_type": "execute_result"
    }
   ],
   "source": [
    "df.loc[(df['clip_name'] == '20191216_123222.mp4') & (df['frame_num'] == 68)]"
   ]
  },
  {
   "cell_type": "code",
   "execution_count": 20,
   "metadata": {},
   "outputs": [],
   "source": [
    "df = df.rename(columns={'x_x' : 'x_gt', 'y_x' : 'y_gt', 'w_x' : 'w_gt', 'h_x' : 'h_gt',\n",
    "                        'x_y' : 'x_pred', 'y_y' : 'y_pred', 'w_y' : 'w_pred', 'h_y' : 'h_pred',})"
   ]
  },
  {
   "attachments": {},
   "cell_type": "markdown",
   "metadata": {},
   "source": [
    "Заполняю пропуски нулями"
   ]
  },
  {
   "cell_type": "code",
   "execution_count": 21,
   "metadata": {},
   "outputs": [],
   "source": [
    "df = df.fillna(0)"
   ]
  },
  {
   "cell_type": "code",
   "execution_count": 22,
   "metadata": {},
   "outputs": [
    {
     "data": {
      "text/html": [
       "<div>\n",
       "<style scoped>\n",
       "    .dataframe tbody tr th:only-of-type {\n",
       "        vertical-align: middle;\n",
       "    }\n",
       "\n",
       "    .dataframe tbody tr th {\n",
       "        vertical-align: top;\n",
       "    }\n",
       "\n",
       "    .dataframe thead th {\n",
       "        text-align: right;\n",
       "    }\n",
       "</style>\n",
       "<table border=\"1\" class=\"dataframe\">\n",
       "  <thead>\n",
       "    <tr style=\"text-align: right;\">\n",
       "      <th></th>\n",
       "      <th>clip_name</th>\n",
       "      <th>frame_num</th>\n",
       "      <th>obj_type</th>\n",
       "      <th>x_gt</th>\n",
       "      <th>y_gt</th>\n",
       "      <th>w_gt</th>\n",
       "      <th>h_gt</th>\n",
       "      <th>label</th>\n",
       "      <th>x_pred</th>\n",
       "      <th>y_pred</th>\n",
       "      <th>w_pred</th>\n",
       "      <th>h_pred</th>\n",
       "      <th>confidence</th>\n",
       "    </tr>\n",
       "  </thead>\n",
       "  <tbody>\n",
       "    <tr>\n",
       "      <th>0</th>\n",
       "      <td>20191216_124707.mp4</td>\n",
       "      <td>1</td>\n",
       "      <td>Face</td>\n",
       "      <td>331.0</td>\n",
       "      <td>268.0</td>\n",
       "      <td>170.0</td>\n",
       "      <td>219.0</td>\n",
       "      <td>Straight</td>\n",
       "      <td>0.0</td>\n",
       "      <td>0.0</td>\n",
       "      <td>0.0</td>\n",
       "      <td>0.0</td>\n",
       "      <td>0.000000</td>\n",
       "    </tr>\n",
       "    <tr>\n",
       "      <th>1</th>\n",
       "      <td>20191216_124707.mp4</td>\n",
       "      <td>1</td>\n",
       "      <td>Eyes</td>\n",
       "      <td>354.0</td>\n",
       "      <td>359.0</td>\n",
       "      <td>117.0</td>\n",
       "      <td>39.0</td>\n",
       "      <td>Open</td>\n",
       "      <td>0.0</td>\n",
       "      <td>0.0</td>\n",
       "      <td>0.0</td>\n",
       "      <td>0.0</td>\n",
       "      <td>0.000000</td>\n",
       "    </tr>\n",
       "    <tr>\n",
       "      <th>2</th>\n",
       "      <td>20191216_124707.mp4</td>\n",
       "      <td>1</td>\n",
       "      <td>Mouth</td>\n",
       "      <td>379.0</td>\n",
       "      <td>435.0</td>\n",
       "      <td>63.0</td>\n",
       "      <td>23.0</td>\n",
       "      <td>Close</td>\n",
       "      <td>0.0</td>\n",
       "      <td>0.0</td>\n",
       "      <td>0.0</td>\n",
       "      <td>0.0</td>\n",
       "      <td>0.000000</td>\n",
       "    </tr>\n",
       "    <tr>\n",
       "      <th>3</th>\n",
       "      <td>20191216_124707.mp4</td>\n",
       "      <td>2</td>\n",
       "      <td>Face</td>\n",
       "      <td>331.0</td>\n",
       "      <td>268.0</td>\n",
       "      <td>170.0</td>\n",
       "      <td>219.0</td>\n",
       "      <td>Straight</td>\n",
       "      <td>0.0</td>\n",
       "      <td>0.0</td>\n",
       "      <td>0.0</td>\n",
       "      <td>0.0</td>\n",
       "      <td>0.000000</td>\n",
       "    </tr>\n",
       "    <tr>\n",
       "      <th>4</th>\n",
       "      <td>20191216_124707.mp4</td>\n",
       "      <td>2</td>\n",
       "      <td>Eyes</td>\n",
       "      <td>354.0</td>\n",
       "      <td>359.0</td>\n",
       "      <td>117.0</td>\n",
       "      <td>39.0</td>\n",
       "      <td>Open</td>\n",
       "      <td>0.0</td>\n",
       "      <td>0.0</td>\n",
       "      <td>0.0</td>\n",
       "      <td>0.0</td>\n",
       "      <td>0.000000</td>\n",
       "    </tr>\n",
       "    <tr>\n",
       "      <th>...</th>\n",
       "      <td>...</td>\n",
       "      <td>...</td>\n",
       "      <td>...</td>\n",
       "      <td>...</td>\n",
       "      <td>...</td>\n",
       "      <td>...</td>\n",
       "      <td>...</td>\n",
       "      <td>...</td>\n",
       "      <td>...</td>\n",
       "      <td>...</td>\n",
       "      <td>...</td>\n",
       "      <td>...</td>\n",
       "      <td>...</td>\n",
       "    </tr>\n",
       "    <tr>\n",
       "      <th>111760</th>\n",
       "      <td>20191216_125644.mp4</td>\n",
       "      <td>4543</td>\n",
       "      <td>Cellphone</td>\n",
       "      <td>0.0</td>\n",
       "      <td>0.0</td>\n",
       "      <td>0.0</td>\n",
       "      <td>0.0</td>\n",
       "      <td>0</td>\n",
       "      <td>328.0</td>\n",
       "      <td>312.0</td>\n",
       "      <td>130.0</td>\n",
       "      <td>84.0</td>\n",
       "      <td>0.535763</td>\n",
       "    </tr>\n",
       "    <tr>\n",
       "      <th>111761</th>\n",
       "      <td>20191216_125644.mp4</td>\n",
       "      <td>4544</td>\n",
       "      <td>Cellphone</td>\n",
       "      <td>0.0</td>\n",
       "      <td>0.0</td>\n",
       "      <td>0.0</td>\n",
       "      <td>0.0</td>\n",
       "      <td>0</td>\n",
       "      <td>326.0</td>\n",
       "      <td>320.0</td>\n",
       "      <td>96.0</td>\n",
       "      <td>86.0</td>\n",
       "      <td>0.514744</td>\n",
       "    </tr>\n",
       "    <tr>\n",
       "      <th>111762</th>\n",
       "      <td>20191216_125644.mp4</td>\n",
       "      <td>4546</td>\n",
       "      <td>Cellphone</td>\n",
       "      <td>0.0</td>\n",
       "      <td>0.0</td>\n",
       "      <td>0.0</td>\n",
       "      <td>0.0</td>\n",
       "      <td>0</td>\n",
       "      <td>336.0</td>\n",
       "      <td>328.0</td>\n",
       "      <td>100.0</td>\n",
       "      <td>78.0</td>\n",
       "      <td>0.534980</td>\n",
       "    </tr>\n",
       "    <tr>\n",
       "      <th>111763</th>\n",
       "      <td>20191216_125644.mp4</td>\n",
       "      <td>4547</td>\n",
       "      <td>Cellphone</td>\n",
       "      <td>0.0</td>\n",
       "      <td>0.0</td>\n",
       "      <td>0.0</td>\n",
       "      <td>0.0</td>\n",
       "      <td>0</td>\n",
       "      <td>334.0</td>\n",
       "      <td>320.0</td>\n",
       "      <td>126.0</td>\n",
       "      <td>80.0</td>\n",
       "      <td>0.517314</td>\n",
       "    </tr>\n",
       "    <tr>\n",
       "      <th>111764</th>\n",
       "      <td>20191216_125644.mp4</td>\n",
       "      <td>4548</td>\n",
       "      <td>Cellphone</td>\n",
       "      <td>0.0</td>\n",
       "      <td>0.0</td>\n",
       "      <td>0.0</td>\n",
       "      <td>0.0</td>\n",
       "      <td>0</td>\n",
       "      <td>324.0</td>\n",
       "      <td>310.0</td>\n",
       "      <td>128.0</td>\n",
       "      <td>78.0</td>\n",
       "      <td>0.526021</td>\n",
       "    </tr>\n",
       "  </tbody>\n",
       "</table>\n",
       "<p>111765 rows × 13 columns</p>\n",
       "</div>"
      ],
      "text/plain": [
       "                  clip_name  frame_num   obj_type   x_gt   y_gt   w_gt   h_gt  \\\n",
       "0       20191216_124707.mp4          1       Face  331.0  268.0  170.0  219.0   \n",
       "1       20191216_124707.mp4          1       Eyes  354.0  359.0  117.0   39.0   \n",
       "2       20191216_124707.mp4          1      Mouth  379.0  435.0   63.0   23.0   \n",
       "3       20191216_124707.mp4          2       Face  331.0  268.0  170.0  219.0   \n",
       "4       20191216_124707.mp4          2       Eyes  354.0  359.0  117.0   39.0   \n",
       "...                     ...        ...        ...    ...    ...    ...    ...   \n",
       "111760  20191216_125644.mp4       4543  Cellphone    0.0    0.0    0.0    0.0   \n",
       "111761  20191216_125644.mp4       4544  Cellphone    0.0    0.0    0.0    0.0   \n",
       "111762  20191216_125644.mp4       4546  Cellphone    0.0    0.0    0.0    0.0   \n",
       "111763  20191216_125644.mp4       4547  Cellphone    0.0    0.0    0.0    0.0   \n",
       "111764  20191216_125644.mp4       4548  Cellphone    0.0    0.0    0.0    0.0   \n",
       "\n",
       "           label  x_pred  y_pred  w_pred  h_pred  confidence  \n",
       "0       Straight     0.0     0.0     0.0     0.0    0.000000  \n",
       "1           Open     0.0     0.0     0.0     0.0    0.000000  \n",
       "2          Close     0.0     0.0     0.0     0.0    0.000000  \n",
       "3       Straight     0.0     0.0     0.0     0.0    0.000000  \n",
       "4           Open     0.0     0.0     0.0     0.0    0.000000  \n",
       "...          ...     ...     ...     ...     ...         ...  \n",
       "111760         0   328.0   312.0   130.0    84.0    0.535763  \n",
       "111761         0   326.0   320.0    96.0    86.0    0.514744  \n",
       "111762         0   336.0   328.0   100.0    78.0    0.534980  \n",
       "111763         0   334.0   320.0   126.0    80.0    0.517314  \n",
       "111764         0   324.0   310.0   128.0    78.0    0.526021  \n",
       "\n",
       "[111765 rows x 13 columns]"
      ]
     },
     "execution_count": 22,
     "metadata": {},
     "output_type": "execute_result"
    }
   ],
   "source": [
    "df"
   ]
  },
  {
   "cell_type": "code",
   "execution_count": 23,
   "metadata": {},
   "outputs": [
    {
     "data": {
      "text/plain": [
       "array(['Face', 'Eyes', 'Mouth', 'Glasses', 'Cellphone'], dtype=object)"
      ]
     },
     "execution_count": 23,
     "metadata": {},
     "output_type": "execute_result"
    }
   ],
   "source": [
    "df['obj_type'].unique()"
   ]
  },
  {
   "cell_type": "markdown",
   "metadata": {},
   "source": [
    "Статистики на датасете с лейблом 'Unknown'"
   ]
  },
  {
   "cell_type": "code",
   "execution_count": 24,
   "metadata": {},
   "outputs": [
    {
     "name": "stdout",
     "output_type": "stream",
     "text": [
      "Face\n",
      "AP: 0.7189144492149353\n",
      "Number of true objects: 28791\n",
      "Number of detections: 28661\n",
      "Number of TP: 23941\n",
      "Number of FP: 4720\n"
     ]
    },
    {
     "data": {
      "image/png": "[encoded data removed]",
      "text/plain": [
       "<Figure size 432x288 with 1 Axes>"
      ]
     },
     "metadata": {
      "needs_background": "light"
     },
     "output_type": "display_data"
    },
    {
     "data": {
      "image/png": "[encoded data removed]",
      "text/plain": [
       "<Figure size 432x288 with 1 Axes>"
      ]
     },
     "metadata": {
      "needs_background": "light"
     },
     "output_type": "display_data"
    },
    {
     "name": "stdout",
     "output_type": "stream",
     "text": [
      "----------------\n",
      "\n",
      "Eyes\n",
      "AP: 0.2580565810203552\n",
      "Number of true objects: 28681\n",
      "Number of detections: 8718\n",
      "Number of TP: 7962\n",
      "Number of FP: 756\n"
     ]
    },
    {
     "data": {
      "image/png": "[encoded data removed]",
      "text/plain": [
       "<Figure size 432x288 with 1 Axes>"
      ]
     },
     "metadata": {
      "needs_background": "light"
     },
     "output_type": "display_data"
    },
    {
     "data": {
      "image/png": "[encoded data removed]",
      "text/plain": [
       "<Figure size 432x288 with 1 Axes>"
      ]
     },
     "metadata": {
      "needs_background": "light"
     },
     "output_type": "display_data"
    },
    {
     "name": "stdout",
     "output_type": "stream",
     "text": [
      "----------------\n",
      "\n",
      "Mouth\n",
      "AP: 0.002097571501508355\n",
      "Number of true objects: 28651\n",
      "Number of detections: 28661\n",
      "Number of TP: 748\n",
      "Number of FP: 27913\n"
     ]
    },
    {
     "data": {
      "image/png": "[encoded data removed]",
      "text/plain": [
       "<Figure size 432x288 with 1 Axes>"
      ]
     },
     "metadata": {
      "needs_background": "light"
     },
     "output_type": "display_data"
    },
    {
     "data": {
      "image/png": "[encoded data removed]",
      "text/plain": [
       "<Figure size 432x288 with 1 Axes>"
      ]
     },
     "metadata": {
      "needs_background": "light"
     },
     "output_type": "display_data"
    },
    {
     "name": "stdout",
     "output_type": "stream",
     "text": [
      "----------------\n",
      "\n",
      "Glasses\n",
      "AP: 0.8426981568336487\n",
      "Number of true objects: 19828\n",
      "Number of detections: 16880\n",
      "Number of TP: 16721\n",
      "Number of FP: 159\n"
     ]
    },
    {
     "data": {
      "image/png": "[encoded data removed]",
      "text/plain": [
       "<Figure size 432x288 with 1 Axes>"
      ]
     },
     "metadata": {
      "needs_background": "light"
     },
     "output_type": "display_data"
    },
    {
     "data": {
      "image/png": "[encoded data removed]",
      "text/plain": [
       "<Figure size 432x288 with 1 Axes>"
      ]
     },
     "metadata": {
      "needs_background": "light"
     },
     "output_type": "display_data"
    },
    {
     "name": "stdout",
     "output_type": "stream",
     "text": [
      "----------------\n",
      "\n",
      "Cellphone\n",
      "AP: 0.85854172706604\n",
      "Number of true objects: 4457\n",
      "Number of detections: 4992\n",
      "Number of TP: 3886\n",
      "Number of FP: 1106\n"
     ]
    },
    {
     "data": {
      "image/png": "[encoded data removed]",
      "text/plain": [
       "<Figure size 432x288 with 1 Axes>"
      ]
     },
     "metadata": {
      "needs_background": "light"
     },
     "output_type": "display_data"
    },
    {
     "data": {
      "image/png": "[encoded data removed]",
      "text/plain": [
       "<Figure size 432x288 with 1 Axes>"
      ]
     },
     "metadata": {
      "needs_background": "light"
     },
     "output_type": "display_data"
    },
    {
     "name": "stdout",
     "output_type": "stream",
     "text": [
      "----------------\n",
      "\n"
     ]
    }
   ],
   "source": [
    "for obj_type in df['obj_type'].unique():\n",
    "    AP, num_true_objects, num_detections, TP_cnt, FP_cnt, precisions, recalls = get_metrics(df, obj_type)\n",
    "    print(obj_type)\n",
    "    print(f'AP: {AP}')\n",
    "    print(f'Number of true objects: {num_true_objects}')\n",
    "    print(f'Number of detections: {num_detections}')\n",
    "    print(f'Number of TP: {TP_cnt}')\n",
    "    print(f'Number of FP: {FP_cnt}')\n",
    "    plot_pr_curve(precisions, recalls, title=obj_type)\n",
    "    y_true, y_proba = get_gt_and_proba(df, obj_type)\n",
    "    plot_roc_curve(y_true, y_proba)\n",
    "    print('----------------\\n')"
   ]
  },
  {
   "cell_type": "markdown",
   "metadata": {},
   "source": [
    "Статистики на датасете без лейбла 'Unknown'"
   ]
  },
  {
   "cell_type": "code",
   "execution_count": 25,
   "metadata": {},
   "outputs": [
    {
     "name": "stdout",
     "output_type": "stream",
     "text": [
      "Face\n",
      "AP: 0.7215055227279663\n",
      "Number of true objects: 24374\n",
      "Number of detections: 24260\n",
      "Number of TP: 20291\n",
      "Number of FP: 3969\n"
     ]
    },
    {
     "data": {
      "image/png": "[encoded data removed]",
      "text/plain": [
       "<Figure size 432x288 with 1 Axes>"
      ]
     },
     "metadata": {
      "needs_background": "light"
     },
     "output_type": "display_data"
    },
    {
     "data": {
      "image/png": "[encoded data removed]",
      "text/plain": [
       "<Figure size 432x288 with 1 Axes>"
      ]
     },
     "metadata": {
      "needs_background": "light"
     },
     "output_type": "display_data"
    },
    {
     "name": "stdout",
     "output_type": "stream",
     "text": [
      "----------------\n",
      "\n",
      "Eyes\n",
      "AP: 0.31566938757896423\n",
      "Number of true objects: 18591\n",
      "Number of detections: 6539\n",
      "Number of TP: 6142\n",
      "Number of FP: 397\n"
     ]
    },
    {
     "data": {
      "image/png": "[encoded data removed]",
      "text/plain": [
       "<Figure size 432x288 with 1 Axes>"
      ]
     },
     "metadata": {
      "needs_background": "light"
     },
     "output_type": "display_data"
    },
    {
     "data": {
      "image/png": "[encoded data removed]",
      "text/plain": [
       "<Figure size 432x288 with 1 Axes>"
      ]
     },
     "metadata": {
      "needs_background": "light"
     },
     "output_type": "display_data"
    },
    {
     "name": "stdout",
     "output_type": "stream",
     "text": [
      "----------------\n",
      "\n",
      "Mouth\n",
      "AP: 0.001750383758917451\n",
      "Number of true objects: 27920\n",
      "Number of detections: 27976\n",
      "Number of TP: 695\n",
      "Number of FP: 27281\n"
     ]
    },
    {
     "data": {
      "image/png": "[encoded data removed]",
      "text/plain": [
       "<Figure size 432x288 with 1 Axes>"
      ]
     },
     "metadata": {
      "needs_background": "light"
     },
     "output_type": "display_data"
    },
    {
     "data": {
      "image/png": "[encoded data removed]",
      "text/plain": [
       "<Figure size 432x288 with 1 Axes>"
      ]
     },
     "metadata": {
      "needs_background": "light"
     },
     "output_type": "display_data"
    },
    {
     "name": "stdout",
     "output_type": "stream",
     "text": [
      "----------------\n",
      "\n",
      "Glasses\n",
      "AP: 0.9471849799156189\n",
      "Number of true objects: 11865\n",
      "Number of detections: 11371\n",
      "Number of TP: 11244\n",
      "Number of FP: 127\n"
     ]
    },
    {
     "data": {
      "image/png": "[encoded data removed]",
      "text/plain": [
       "<Figure size 432x288 with 1 Axes>"
      ]
     },
     "metadata": {
      "needs_background": "light"
     },
     "output_type": "display_data"
    },
    {
     "data": {
      "image/png": "[encoded data removed]",
      "text/plain": [
       "<Figure size 432x288 with 1 Axes>"
      ]
     },
     "metadata": {
      "needs_background": "light"
     },
     "output_type": "display_data"
    },
    {
     "name": "stdout",
     "output_type": "stream",
     "text": [
      "----------------\n",
      "\n",
      "Cellphone\n",
      "AP: 0.8709898591041565\n",
      "Number of true objects: 4223\n",
      "Number of detections: 4837\n",
      "Number of TP: 3732\n",
      "Number of FP: 1105\n"
     ]
    },
    {
     "data": {
      "image/png": "[encoded data removed]",
      "text/plain": [
       "<Figure size 432x288 with 1 Axes>"
      ]
     },
     "metadata": {
      "needs_background": "light"
     },
     "output_type": "display_data"
    },
    {
     "data": {
      "image/png": "[encoded data removed]",
      "text/plain": [
       "<Figure size 432x288 with 1 Axes>"
      ]
     },
     "metadata": {
      "needs_background": "light"
     },
     "output_type": "display_data"
    },
    {
     "name": "stdout",
     "output_type": "stream",
     "text": [
      "----------------\n",
      "\n"
     ]
    }
   ],
   "source": [
    "for obj_type in df['obj_type'].unique():\n",
    "    AP, num_true_objects, num_detections, TP_cnt, FP_cnt, precisions, recalls = get_metrics(df[df['label'] != 'Unknown'], obj_type)\n",
    "    print(obj_type)\n",
    "    print(f'AP: {AP}')\n",
    "    print(f'Number of true objects: {num_true_objects}')\n",
    "    print(f'Number of detections: {num_detections}')\n",
    "    print(f'Number of TP: {TP_cnt}')\n",
    "    print(f'Number of FP: {FP_cnt}')\n",
    "    plot_pr_curve(precisions, recalls, title=obj_type)\n",
    "    y_true, y_proba = get_gt_and_proba(df[df['label'] != 'Unknown'], obj_type)\n",
    "    plot_roc_curve(y_true, y_proba)\n",
    "    print('----------------\\n')"
   ]
  }
 ],
 "metadata": {
  "kernelspec": {
   "display_name": "base",
   "language": "python",
   "name": "python3"
  },
  "language_info": {
   "codemirror_mode": {
    "name": "ipython",
    "version": 3
   },
   "file_extension": ".py",
   "mimetype": "text/x-python",
   "name": "python",
   "nbconvert_exporter": "python",
   "pygments_lexer": "ipython3",
   "version": "3.9.12"
  },
  "orig_nbformat": 4
 },
 "nbformat": 4,
 "nbformat_minor": 2
}
