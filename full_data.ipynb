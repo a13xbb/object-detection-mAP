{
 "cells": [
  {
   "cell_type": "code",
   "execution_count": 1,
   "metadata": {},
   "outputs": [],
   "source": [
    "import pandas as pd\n",
    "from metrics import get_metrics, plot_pr_curve, get_gt_and_proba, plot_roc_curve\n",
    "import matplotlib.pyplot as plt\n",
    "import numpy as np"
   ]
  },
  {
   "attachments": {},
   "cell_type": "markdown",
   "metadata": {},
   "source": [
    "Читаю csv-файлы в датафреймы и изучаю как выглядят данные"
   ]
  },
  {
   "cell_type": "code",
   "execution_count": 2,
   "metadata": {},
   "outputs": [],
   "source": [
    "gt = pd.read_csv('full_dataset/groundtruth.csv')\n",
    "preds = pd.read_csv('full_dataset/predictions.csv')"
   ]
  },
  {
   "cell_type": "code",
   "execution_count": 3,
   "metadata": {},
   "outputs": [
    {
     "data": {
      "text/html": [
       "<div>\n",
       "<style scoped>\n",
       "    .dataframe tbody tr th:only-of-type {\n",
       "        vertical-align: middle;\n",
       "    }\n",
       "\n",
       "    .dataframe tbody tr th {\n",
       "        vertical-align: top;\n",
       "    }\n",
       "\n",
       "    .dataframe thead th {\n",
       "        text-align: right;\n",
       "    }\n",
       "</style>\n",
       "<table border=\"1\" class=\"dataframe\">\n",
       "  <thead>\n",
       "    <tr style=\"text-align: right;\">\n",
       "      <th></th>\n",
       "      <th>clip_name</th>\n",
       "      <th>frame_num</th>\n",
       "      <th>obj_type</th>\n",
       "      <th>x</th>\n",
       "      <th>y</th>\n",
       "      <th>w</th>\n",
       "      <th>h</th>\n",
       "      <th>confidence</th>\n",
       "    </tr>\n",
       "  </thead>\n",
       "  <tbody>\n",
       "    <tr>\n",
       "      <th>0</th>\n",
       "      <td>evzero blades OO9454.mp4</td>\n",
       "      <td>4</td>\n",
       "      <td>Cellphone</td>\n",
       "      <td>200</td>\n",
       "      <td>270</td>\n",
       "      <td>38</td>\n",
       "      <td>46</td>\n",
       "      <td>0.610414</td>\n",
       "    </tr>\n",
       "    <tr>\n",
       "      <th>1</th>\n",
       "      <td>evzero blades OO9454.mp4</td>\n",
       "      <td>4</td>\n",
       "      <td>SeatbeltNo</td>\n",
       "      <td>248</td>\n",
       "      <td>203</td>\n",
       "      <td>190</td>\n",
       "      <td>157</td>\n",
       "      <td>0.984375</td>\n",
       "    </tr>\n",
       "    <tr>\n",
       "      <th>2</th>\n",
       "      <td>evzero blades OO9454.mp4</td>\n",
       "      <td>4</td>\n",
       "      <td>Eyes</td>\n",
       "      <td>267</td>\n",
       "      <td>92</td>\n",
       "      <td>87</td>\n",
       "      <td>43</td>\n",
       "      <td>0.003906</td>\n",
       "    </tr>\n",
       "    <tr>\n",
       "      <th>3</th>\n",
       "      <td>evzero blades OO9454.mp4</td>\n",
       "      <td>4</td>\n",
       "      <td>Mouth</td>\n",
       "      <td>268</td>\n",
       "      <td>134</td>\n",
       "      <td>87</td>\n",
       "      <td>43</td>\n",
       "      <td>0.003906</td>\n",
       "    </tr>\n",
       "    <tr>\n",
       "      <th>4</th>\n",
       "      <td>evzero blades OO9454.mp4</td>\n",
       "      <td>4</td>\n",
       "      <td>Face</td>\n",
       "      <td>272</td>\n",
       "      <td>66</td>\n",
       "      <td>76</td>\n",
       "      <td>122</td>\n",
       "      <td>0.000000</td>\n",
       "    </tr>\n",
       "    <tr>\n",
       "      <th>...</th>\n",
       "      <td>...</td>\n",
       "      <td>...</td>\n",
       "      <td>...</td>\n",
       "      <td>...</td>\n",
       "      <td>...</td>\n",
       "      <td>...</td>\n",
       "      <td>...</td>\n",
       "      <td>...</td>\n",
       "    </tr>\n",
       "    <tr>\n",
       "      <th>2823382</th>\n",
       "      <td>090508095927_2.mp4</td>\n",
       "      <td>1646</td>\n",
       "      <td>Glasses</td>\n",
       "      <td>333</td>\n",
       "      <td>591</td>\n",
       "      <td>204</td>\n",
       "      <td>93</td>\n",
       "      <td>0.709576</td>\n",
       "    </tr>\n",
       "    <tr>\n",
       "      <th>2823383</th>\n",
       "      <td>090508095927_2.mp4</td>\n",
       "      <td>1647</td>\n",
       "      <td>SeatbeltYes</td>\n",
       "      <td>321</td>\n",
       "      <td>720</td>\n",
       "      <td>396</td>\n",
       "      <td>357</td>\n",
       "      <td>0.996094</td>\n",
       "    </tr>\n",
       "    <tr>\n",
       "      <th>2823384</th>\n",
       "      <td>090508095927_2.mp4</td>\n",
       "      <td>1647</td>\n",
       "      <td>Mouth</td>\n",
       "      <td>333</td>\n",
       "      <td>675</td>\n",
       "      <td>168</td>\n",
       "      <td>84</td>\n",
       "      <td>0.003906</td>\n",
       "    </tr>\n",
       "    <tr>\n",
       "      <th>2823385</th>\n",
       "      <td>090508095927_2.mp4</td>\n",
       "      <td>1647</td>\n",
       "      <td>Face</td>\n",
       "      <td>333</td>\n",
       "      <td>534</td>\n",
       "      <td>189</td>\n",
       "      <td>237</td>\n",
       "      <td>0.000000</td>\n",
       "    </tr>\n",
       "    <tr>\n",
       "      <th>2823386</th>\n",
       "      <td>090508095927_2.mp4</td>\n",
       "      <td>1647</td>\n",
       "      <td>Glasses</td>\n",
       "      <td>333</td>\n",
       "      <td>588</td>\n",
       "      <td>204</td>\n",
       "      <td>99</td>\n",
       "      <td>0.697394</td>\n",
       "    </tr>\n",
       "  </tbody>\n",
       "</table>\n",
       "<p>2823387 rows × 8 columns</p>\n",
       "</div>"
      ],
      "text/plain": [
       "                        clip_name  frame_num     obj_type    x    y    w    h  \\\n",
       "0        evzero blades OO9454.mp4          4    Cellphone  200  270   38   46   \n",
       "1        evzero blades OO9454.mp4          4   SeatbeltNo  248  203  190  157   \n",
       "2        evzero blades OO9454.mp4          4         Eyes  267   92   87   43   \n",
       "3        evzero blades OO9454.mp4          4        Mouth  268  134   87   43   \n",
       "4        evzero blades OO9454.mp4          4         Face  272   66   76  122   \n",
       "...                           ...        ...          ...  ...  ...  ...  ...   \n",
       "2823382        090508095927_2.mp4       1646      Glasses  333  591  204   93   \n",
       "2823383        090508095927_2.mp4       1647  SeatbeltYes  321  720  396  357   \n",
       "2823384        090508095927_2.mp4       1647        Mouth  333  675  168   84   \n",
       "2823385        090508095927_2.mp4       1647         Face  333  534  189  237   \n",
       "2823386        090508095927_2.mp4       1647      Glasses  333  588  204   99   \n",
       "\n",
       "         confidence  \n",
       "0          0.610414  \n",
       "1          0.984375  \n",
       "2          0.003906  \n",
       "3          0.003906  \n",
       "4          0.000000  \n",
       "...             ...  \n",
       "2823382    0.709576  \n",
       "2823383    0.996094  \n",
       "2823384    0.003906  \n",
       "2823385    0.000000  \n",
       "2823386    0.697394  \n",
       "\n",
       "[2823387 rows x 8 columns]"
      ]
     },
     "execution_count": 3,
     "metadata": {},
     "output_type": "execute_result"
    }
   ],
   "source": [
    "preds"
   ]
  },
  {
   "cell_type": "code",
   "execution_count": 4,
   "metadata": {},
   "outputs": [
    {
     "data": {
      "text/html": [
       "<div>\n",
       "<style scoped>\n",
       "    .dataframe tbody tr th:only-of-type {\n",
       "        vertical-align: middle;\n",
       "    }\n",
       "\n",
       "    .dataframe tbody tr th {\n",
       "        vertical-align: top;\n",
       "    }\n",
       "\n",
       "    .dataframe thead th {\n",
       "        text-align: right;\n",
       "    }\n",
       "</style>\n",
       "<table border=\"1\" class=\"dataframe\">\n",
       "  <thead>\n",
       "    <tr style=\"text-align: right;\">\n",
       "      <th></th>\n",
       "      <th>clip_name</th>\n",
       "      <th>frame_num</th>\n",
       "      <th>obj_type</th>\n",
       "      <th>x</th>\n",
       "      <th>y</th>\n",
       "      <th>w</th>\n",
       "      <th>h</th>\n",
       "      <th>label</th>\n",
       "    </tr>\n",
       "  </thead>\n",
       "  <tbody>\n",
       "    <tr>\n",
       "      <th>0</th>\n",
       "      <td>How Expensive are Good Sunglasses 25- 400 w En...</td>\n",
       "      <td>91</td>\n",
       "      <td>Face</td>\n",
       "      <td>519</td>\n",
       "      <td>10</td>\n",
       "      <td>248</td>\n",
       "      <td>357</td>\n",
       "      <td>Straight</td>\n",
       "    </tr>\n",
       "    <tr>\n",
       "      <th>1</th>\n",
       "      <td>How Expensive are Good Sunglasses 25- 400 w En...</td>\n",
       "      <td>91</td>\n",
       "      <td>Sunglasses</td>\n",
       "      <td>531</td>\n",
       "      <td>155</td>\n",
       "      <td>226</td>\n",
       "      <td>80</td>\n",
       "      <td>OnEyes</td>\n",
       "    </tr>\n",
       "    <tr>\n",
       "      <th>2</th>\n",
       "      <td>How Expensive are Good Sunglasses 25- 400 w En...</td>\n",
       "      <td>91</td>\n",
       "      <td>Eyes</td>\n",
       "      <td>547</td>\n",
       "      <td>150</td>\n",
       "      <td>194</td>\n",
       "      <td>63</td>\n",
       "      <td>Unknown</td>\n",
       "    </tr>\n",
       "    <tr>\n",
       "      <th>3</th>\n",
       "      <td>How Expensive are Good Sunglasses 25- 400 w En...</td>\n",
       "      <td>91</td>\n",
       "      <td>Mouth</td>\n",
       "      <td>594</td>\n",
       "      <td>269</td>\n",
       "      <td>107</td>\n",
       "      <td>45</td>\n",
       "      <td>Close</td>\n",
       "    </tr>\n",
       "    <tr>\n",
       "      <th>4</th>\n",
       "      <td>How Expensive are Good Sunglasses 25- 400 w En...</td>\n",
       "      <td>92</td>\n",
       "      <td>Face</td>\n",
       "      <td>519</td>\n",
       "      <td>10</td>\n",
       "      <td>248</td>\n",
       "      <td>357</td>\n",
       "      <td>Straight</td>\n",
       "    </tr>\n",
       "    <tr>\n",
       "      <th>...</th>\n",
       "      <td>...</td>\n",
       "      <td>...</td>\n",
       "      <td>...</td>\n",
       "      <td>...</td>\n",
       "      <td>...</td>\n",
       "      <td>...</td>\n",
       "      <td>...</td>\n",
       "      <td>...</td>\n",
       "    </tr>\n",
       "    <tr>\n",
       "      <th>1630713</th>\n",
       "      <td>090605150612_2.mp4</td>\n",
       "      <td>1646</td>\n",
       "      <td>Mouth</td>\n",
       "      <td>457</td>\n",
       "      <td>618</td>\n",
       "      <td>74</td>\n",
       "      <td>81</td>\n",
       "      <td>Open</td>\n",
       "    </tr>\n",
       "    <tr>\n",
       "      <th>1630714</th>\n",
       "      <td>090605150612_2.mp4</td>\n",
       "      <td>1647</td>\n",
       "      <td>Glasses</td>\n",
       "      <td>424</td>\n",
       "      <td>517</td>\n",
       "      <td>217</td>\n",
       "      <td>51</td>\n",
       "      <td>Open</td>\n",
       "    </tr>\n",
       "    <tr>\n",
       "      <th>1630715</th>\n",
       "      <td>090605150612_2.mp4</td>\n",
       "      <td>1647</td>\n",
       "      <td>Face</td>\n",
       "      <td>435</td>\n",
       "      <td>391</td>\n",
       "      <td>225</td>\n",
       "      <td>349</td>\n",
       "      <td>Straight</td>\n",
       "    </tr>\n",
       "    <tr>\n",
       "      <th>1630716</th>\n",
       "      <td>090605150612_2.mp4</td>\n",
       "      <td>1647</td>\n",
       "      <td>Eyes</td>\n",
       "      <td>447</td>\n",
       "      <td>504</td>\n",
       "      <td>124</td>\n",
       "      <td>51</td>\n",
       "      <td>Open</td>\n",
       "    </tr>\n",
       "    <tr>\n",
       "      <th>1630717</th>\n",
       "      <td>090605150612_2.mp4</td>\n",
       "      <td>1647</td>\n",
       "      <td>Mouth</td>\n",
       "      <td>458</td>\n",
       "      <td>623</td>\n",
       "      <td>72</td>\n",
       "      <td>78</td>\n",
       "      <td>Open</td>\n",
       "    </tr>\n",
       "  </tbody>\n",
       "</table>\n",
       "<p>1630718 rows × 8 columns</p>\n",
       "</div>"
      ],
      "text/plain": [
       "                                                 clip_name  frame_num  \\\n",
       "0        How Expensive are Good Sunglasses 25- 400 w En...         91   \n",
       "1        How Expensive are Good Sunglasses 25- 400 w En...         91   \n",
       "2        How Expensive are Good Sunglasses 25- 400 w En...         91   \n",
       "3        How Expensive are Good Sunglasses 25- 400 w En...         91   \n",
       "4        How Expensive are Good Sunglasses 25- 400 w En...         92   \n",
       "...                                                    ...        ...   \n",
       "1630713                                 090605150612_2.mp4       1646   \n",
       "1630714                                 090605150612_2.mp4       1647   \n",
       "1630715                                 090605150612_2.mp4       1647   \n",
       "1630716                                 090605150612_2.mp4       1647   \n",
       "1630717                                 090605150612_2.mp4       1647   \n",
       "\n",
       "           obj_type    x    y    w    h     label  \n",
       "0              Face  519   10  248  357  Straight  \n",
       "1        Sunglasses  531  155  226   80    OnEyes  \n",
       "2              Eyes  547  150  194   63   Unknown  \n",
       "3             Mouth  594  269  107   45     Close  \n",
       "4              Face  519   10  248  357  Straight  \n",
       "...             ...  ...  ...  ...  ...       ...  \n",
       "1630713       Mouth  457  618   74   81      Open  \n",
       "1630714     Glasses  424  517  217   51      Open  \n",
       "1630715        Face  435  391  225  349  Straight  \n",
       "1630716        Eyes  447  504  124   51      Open  \n",
       "1630717       Mouth  458  623   72   78      Open  \n",
       "\n",
       "[1630718 rows x 8 columns]"
      ]
     },
     "execution_count": 4,
     "metadata": {},
     "output_type": "execute_result"
    }
   ],
   "source": [
    "gt"
   ]
  },
  {
   "cell_type": "code",
   "execution_count": 5,
   "metadata": {},
   "outputs": [
    {
     "data": {
      "text/plain": [
       "Straight    313981\n",
       "Unknown      44940\n",
       "Side         44635\n",
       "Down         13856\n",
       "Up            8760\n",
       "Name: label, dtype: int64"
      ]
     },
     "execution_count": 5,
     "metadata": {},
     "output_type": "execute_result"
    }
   ],
   "source": [
    "gt[gt['obj_type'] == 'Face']['label'].value_counts()"
   ]
  },
  {
   "cell_type": "code",
   "execution_count": 6,
   "metadata": {},
   "outputs": [
    {
     "data": {
      "text/plain": [
       "Face          426172\n",
       "Eyes          414440\n",
       "Mouth         398239\n",
       "Glasses       164829\n",
       "Sunglasses    142460\n",
       "Cellphone      84578\n",
       "Name: obj_type, dtype: int64"
      ]
     },
     "execution_count": 6,
     "metadata": {},
     "output_type": "execute_result"
    }
   ],
   "source": [
    "gt['obj_type'].value_counts()"
   ]
  },
  {
   "cell_type": "code",
   "execution_count": 7,
   "metadata": {},
   "outputs": [
    {
     "data": {
      "text/plain": [
       "Face           716255\n",
       "Mouth          629795\n",
       "SeatbeltNo     594729\n",
       "Sunglasses     223908\n",
       "Eyes           208835\n",
       "Cellphone      172834\n",
       "Glasses        172302\n",
       "SeatbeltYes    104729\n",
       "Name: obj_type, dtype: int64"
      ]
     },
     "execution_count": 7,
     "metadata": {},
     "output_type": "execute_result"
    }
   ],
   "source": [
    "preds['obj_type'].value_counts()"
   ]
  },
  {
   "cell_type": "code",
   "execution_count": 8,
   "metadata": {},
   "outputs": [],
   "source": [
    "obj_types = gt['obj_type'].unique()"
   ]
  },
  {
   "cell_type": "code",
   "execution_count": 9,
   "metadata": {},
   "outputs": [],
   "source": [
    "preds = preds[preds['obj_type'].isin(obj_types)]"
   ]
  },
  {
   "cell_type": "code",
   "execution_count": 10,
   "metadata": {},
   "outputs": [
    {
     "data": {
      "text/plain": [
       "Face          716255\n",
       "Mouth         629795\n",
       "Sunglasses    223908\n",
       "Eyes          208835\n",
       "Cellphone     172834\n",
       "Glasses       172302\n",
       "Name: obj_type, dtype: int64"
      ]
     },
     "execution_count": 10,
     "metadata": {},
     "output_type": "execute_result"
    }
   ],
   "source": [
    "preds['obj_type'].value_counts()"
   ]
  },
  {
   "attachments": {},
   "cell_type": "markdown",
   "metadata": {},
   "source": []
  },
  {
   "attachments": {},
   "cell_type": "markdown",
   "metadata": {},
   "source": [
    "Пример кадра, на котором есть метки, которые модель не распознала (False Negative)"
   ]
  },
  {
   "cell_type": "code",
   "execution_count": 11,
   "metadata": {},
   "outputs": [
    {
     "data": {
      "text/html": [
       "<div>\n",
       "<style scoped>\n",
       "    .dataframe tbody tr th:only-of-type {\n",
       "        vertical-align: middle;\n",
       "    }\n",
       "\n",
       "    .dataframe tbody tr th {\n",
       "        vertical-align: top;\n",
       "    }\n",
       "\n",
       "    .dataframe thead th {\n",
       "        text-align: right;\n",
       "    }\n",
       "</style>\n",
       "<table border=\"1\" class=\"dataframe\">\n",
       "  <thead>\n",
       "    <tr style=\"text-align: right;\">\n",
       "      <th></th>\n",
       "      <th>clip_name</th>\n",
       "      <th>frame_num</th>\n",
       "      <th>obj_type</th>\n",
       "      <th>x</th>\n",
       "      <th>y</th>\n",
       "      <th>w</th>\n",
       "      <th>h</th>\n",
       "      <th>label</th>\n",
       "    </tr>\n",
       "  </thead>\n",
       "  <tbody>\n",
       "    <tr>\n",
       "      <th>374878</th>\n",
       "      <td>20191216_123222.mp4</td>\n",
       "      <td>3592</td>\n",
       "      <td>Face</td>\n",
       "      <td>195</td>\n",
       "      <td>278</td>\n",
       "      <td>190</td>\n",
       "      <td>245</td>\n",
       "      <td>Unknown</td>\n",
       "    </tr>\n",
       "    <tr>\n",
       "      <th>374879</th>\n",
       "      <td>20191216_123222.mp4</td>\n",
       "      <td>3592</td>\n",
       "      <td>Glasses</td>\n",
       "      <td>213</td>\n",
       "      <td>400</td>\n",
       "      <td>156</td>\n",
       "      <td>60</td>\n",
       "      <td>Unknown</td>\n",
       "    </tr>\n",
       "    <tr>\n",
       "      <th>374880</th>\n",
       "      <td>20191216_123222.mp4</td>\n",
       "      <td>3592</td>\n",
       "      <td>Eyes</td>\n",
       "      <td>235</td>\n",
       "      <td>412</td>\n",
       "      <td>117</td>\n",
       "      <td>35</td>\n",
       "      <td>Unknown</td>\n",
       "    </tr>\n",
       "    <tr>\n",
       "      <th>374881</th>\n",
       "      <td>20191216_123222.mp4</td>\n",
       "      <td>3592</td>\n",
       "      <td>Mouth</td>\n",
       "      <td>269</td>\n",
       "      <td>480</td>\n",
       "      <td>56</td>\n",
       "      <td>25</td>\n",
       "      <td>Close</td>\n",
       "    </tr>\n",
       "    <tr>\n",
       "      <th>374882</th>\n",
       "      <td>20191216_123222.mp4</td>\n",
       "      <td>3592</td>\n",
       "      <td>Cellphone</td>\n",
       "      <td>300</td>\n",
       "      <td>700</td>\n",
       "      <td>84</td>\n",
       "      <td>20</td>\n",
       "      <td>Hard</td>\n",
       "    </tr>\n",
       "  </tbody>\n",
       "</table>\n",
       "</div>"
      ],
      "text/plain": [
       "                  clip_name  frame_num   obj_type    x    y    w    h    label\n",
       "374878  20191216_123222.mp4       3592       Face  195  278  190  245  Unknown\n",
       "374879  20191216_123222.mp4       3592    Glasses  213  400  156   60  Unknown\n",
       "374880  20191216_123222.mp4       3592       Eyes  235  412  117   35  Unknown\n",
       "374881  20191216_123222.mp4       3592      Mouth  269  480   56   25    Close\n",
       "374882  20191216_123222.mp4       3592  Cellphone  300  700   84   20     Hard"
      ]
     },
     "execution_count": 11,
     "metadata": {},
     "output_type": "execute_result"
    }
   ],
   "source": [
    "gt.loc[(gt['clip_name'] == '20191216_123222.mp4') & (gt['frame_num'] == 3592)]"
   ]
  },
  {
   "cell_type": "code",
   "execution_count": 12,
   "metadata": {},
   "outputs": [
    {
     "data": {
      "text/html": [
       "<div>\n",
       "<style scoped>\n",
       "    .dataframe tbody tr th:only-of-type {\n",
       "        vertical-align: middle;\n",
       "    }\n",
       "\n",
       "    .dataframe tbody tr th {\n",
       "        vertical-align: top;\n",
       "    }\n",
       "\n",
       "    .dataframe thead th {\n",
       "        text-align: right;\n",
       "    }\n",
       "</style>\n",
       "<table border=\"1\" class=\"dataframe\">\n",
       "  <thead>\n",
       "    <tr style=\"text-align: right;\">\n",
       "      <th></th>\n",
       "      <th>clip_name</th>\n",
       "      <th>frame_num</th>\n",
       "      <th>obj_type</th>\n",
       "      <th>x</th>\n",
       "      <th>y</th>\n",
       "      <th>w</th>\n",
       "      <th>h</th>\n",
       "      <th>confidence</th>\n",
       "    </tr>\n",
       "  </thead>\n",
       "  <tbody>\n",
       "    <tr>\n",
       "      <th>47480</th>\n",
       "      <td>20191216_123222.mp4</td>\n",
       "      <td>3592</td>\n",
       "      <td>Glasses</td>\n",
       "      <td>224</td>\n",
       "      <td>402</td>\n",
       "      <td>146</td>\n",
       "      <td>62</td>\n",
       "      <td>0.769557</td>\n",
       "    </tr>\n",
       "    <tr>\n",
       "      <th>47481</th>\n",
       "      <td>20191216_123222.mp4</td>\n",
       "      <td>3592</td>\n",
       "      <td>Face</td>\n",
       "      <td>230</td>\n",
       "      <td>368</td>\n",
       "      <td>126</td>\n",
       "      <td>160</td>\n",
       "      <td>0.000000</td>\n",
       "    </tr>\n",
       "    <tr>\n",
       "      <th>47482</th>\n",
       "      <td>20191216_123222.mp4</td>\n",
       "      <td>3592</td>\n",
       "      <td>Mouth</td>\n",
       "      <td>238</td>\n",
       "      <td>464</td>\n",
       "      <td>114</td>\n",
       "      <td>56</td>\n",
       "      <td>0.003906</td>\n",
       "    </tr>\n",
       "  </tbody>\n",
       "</table>\n",
       "</div>"
      ],
      "text/plain": [
       "                 clip_name  frame_num obj_type    x    y    w    h  confidence\n",
       "47480  20191216_123222.mp4       3592  Glasses  224  402  146   62    0.769557\n",
       "47481  20191216_123222.mp4       3592     Face  230  368  126  160    0.000000\n",
       "47482  20191216_123222.mp4       3592    Mouth  238  464  114   56    0.003906"
      ]
     },
     "execution_count": 12,
     "metadata": {},
     "output_type": "execute_result"
    }
   ],
   "source": [
    "preds.loc[(preds['clip_name'] == '20191216_123222.mp4') & (preds['frame_num'] == 3592)]"
   ]
  },
  {
   "attachments": {},
   "cell_type": "markdown",
   "metadata": {},
   "source": []
  },
  {
   "attachments": {},
   "cell_type": "markdown",
   "metadata": {},
   "source": [
    "Пример кадра, на котором модель ложно распознала метки, которых нет (False Positive)"
   ]
  },
  {
   "cell_type": "code",
   "execution_count": 13,
   "metadata": {},
   "outputs": [
    {
     "data": {
      "text/html": [
       "<div>\n",
       "<style scoped>\n",
       "    .dataframe tbody tr th:only-of-type {\n",
       "        vertical-align: middle;\n",
       "    }\n",
       "\n",
       "    .dataframe tbody tr th {\n",
       "        vertical-align: top;\n",
       "    }\n",
       "\n",
       "    .dataframe thead th {\n",
       "        text-align: right;\n",
       "    }\n",
       "</style>\n",
       "<table border=\"1\" class=\"dataframe\">\n",
       "  <thead>\n",
       "    <tr style=\"text-align: right;\">\n",
       "      <th></th>\n",
       "      <th>clip_name</th>\n",
       "      <th>frame_num</th>\n",
       "      <th>obj_type</th>\n",
       "      <th>x</th>\n",
       "      <th>y</th>\n",
       "      <th>w</th>\n",
       "      <th>h</th>\n",
       "      <th>label</th>\n",
       "    </tr>\n",
       "  </thead>\n",
       "  <tbody>\n",
       "    <tr>\n",
       "      <th>363195</th>\n",
       "      <td>20191216_123222.mp4</td>\n",
       "      <td>68</td>\n",
       "      <td>Face</td>\n",
       "      <td>163</td>\n",
       "      <td>280</td>\n",
       "      <td>235</td>\n",
       "      <td>202</td>\n",
       "      <td>Side</td>\n",
       "    </tr>\n",
       "    <tr>\n",
       "      <th>363196</th>\n",
       "      <td>20191216_123222.mp4</td>\n",
       "      <td>68</td>\n",
       "      <td>Mouth</td>\n",
       "      <td>177</td>\n",
       "      <td>434</td>\n",
       "      <td>22</td>\n",
       "      <td>23</td>\n",
       "      <td>Close</td>\n",
       "    </tr>\n",
       "    <tr>\n",
       "      <th>363197</th>\n",
       "      <td>20191216_123222.mp4</td>\n",
       "      <td>68</td>\n",
       "      <td>Eyes</td>\n",
       "      <td>185</td>\n",
       "      <td>371</td>\n",
       "      <td>33</td>\n",
       "      <td>32</td>\n",
       "      <td>Unknown</td>\n",
       "    </tr>\n",
       "  </tbody>\n",
       "</table>\n",
       "</div>"
      ],
      "text/plain": [
       "                  clip_name  frame_num obj_type    x    y    w    h    label\n",
       "363195  20191216_123222.mp4         68     Face  163  280  235  202     Side\n",
       "363196  20191216_123222.mp4         68    Mouth  177  434   22   23    Close\n",
       "363197  20191216_123222.mp4         68     Eyes  185  371   33   32  Unknown"
      ]
     },
     "execution_count": 13,
     "metadata": {},
     "output_type": "execute_result"
    }
   ],
   "source": [
    "gt.loc[(gt['clip_name'] == '20191216_123222.mp4') & (gt['frame_num'] == 68)]"
   ]
  },
  {
   "cell_type": "code",
   "execution_count": 14,
   "metadata": {},
   "outputs": [
    {
     "data": {
      "text/html": [
       "<div>\n",
       "<style scoped>\n",
       "    .dataframe tbody tr th:only-of-type {\n",
       "        vertical-align: middle;\n",
       "    }\n",
       "\n",
       "    .dataframe tbody tr th {\n",
       "        vertical-align: top;\n",
       "    }\n",
       "\n",
       "    .dataframe thead th {\n",
       "        text-align: right;\n",
       "    }\n",
       "</style>\n",
       "<table border=\"1\" class=\"dataframe\">\n",
       "  <thead>\n",
       "    <tr style=\"text-align: right;\">\n",
       "      <th></th>\n",
       "      <th>clip_name</th>\n",
       "      <th>frame_num</th>\n",
       "      <th>obj_type</th>\n",
       "      <th>x</th>\n",
       "      <th>y</th>\n",
       "      <th>w</th>\n",
       "      <th>h</th>\n",
       "      <th>confidence</th>\n",
       "    </tr>\n",
       "  </thead>\n",
       "  <tbody>\n",
       "    <tr>\n",
       "      <th>33190</th>\n",
       "      <td>20191216_123222.mp4</td>\n",
       "      <td>68</td>\n",
       "      <td>Mouth</td>\n",
       "      <td>140</td>\n",
       "      <td>416</td>\n",
       "      <td>100</td>\n",
       "      <td>50</td>\n",
       "      <td>0.003906</td>\n",
       "    </tr>\n",
       "    <tr>\n",
       "      <th>33191</th>\n",
       "      <td>20191216_123222.mp4</td>\n",
       "      <td>68</td>\n",
       "      <td>Eyes</td>\n",
       "      <td>144</td>\n",
       "      <td>364</td>\n",
       "      <td>100</td>\n",
       "      <td>50</td>\n",
       "      <td>0.312500</td>\n",
       "    </tr>\n",
       "    <tr>\n",
       "      <th>33193</th>\n",
       "      <td>20191216_123222.mp4</td>\n",
       "      <td>68</td>\n",
       "      <td>Face</td>\n",
       "      <td>170</td>\n",
       "      <td>340</td>\n",
       "      <td>96</td>\n",
       "      <td>142</td>\n",
       "      <td>0.000000</td>\n",
       "    </tr>\n",
       "    <tr>\n",
       "      <th>33194</th>\n",
       "      <td>20191216_123222.mp4</td>\n",
       "      <td>68</td>\n",
       "      <td>Cellphone</td>\n",
       "      <td>224</td>\n",
       "      <td>546</td>\n",
       "      <td>138</td>\n",
       "      <td>72</td>\n",
       "      <td>0.552914</td>\n",
       "    </tr>\n",
       "  </tbody>\n",
       "</table>\n",
       "</div>"
      ],
      "text/plain": [
       "                 clip_name  frame_num   obj_type    x    y    w    h  \\\n",
       "33190  20191216_123222.mp4         68      Mouth  140  416  100   50   \n",
       "33191  20191216_123222.mp4         68       Eyes  144  364  100   50   \n",
       "33193  20191216_123222.mp4         68       Face  170  340   96  142   \n",
       "33194  20191216_123222.mp4         68  Cellphone  224  546  138   72   \n",
       "\n",
       "       confidence  \n",
       "33190    0.003906  \n",
       "33191    0.312500  \n",
       "33193    0.000000  \n",
       "33194    0.552914  "
      ]
     },
     "execution_count": 14,
     "metadata": {},
     "output_type": "execute_result"
    }
   ],
   "source": [
    "preds.loc[(preds['clip_name'] == '20191216_123222.mp4') & (preds['frame_num'] == 68)]"
   ]
  },
  {
   "cell_type": "code",
   "execution_count": 15,
   "metadata": {},
   "outputs": [
    {
     "data": {
      "text/html": [
       "<div>\n",
       "<style scoped>\n",
       "    .dataframe tbody tr th:only-of-type {\n",
       "        vertical-align: middle;\n",
       "    }\n",
       "\n",
       "    .dataframe tbody tr th {\n",
       "        vertical-align: top;\n",
       "    }\n",
       "\n",
       "    .dataframe thead th {\n",
       "        text-align: right;\n",
       "    }\n",
       "</style>\n",
       "<table border=\"1\" class=\"dataframe\">\n",
       "  <thead>\n",
       "    <tr style=\"text-align: right;\">\n",
       "      <th></th>\n",
       "      <th>clip_name</th>\n",
       "      <th>frame_num</th>\n",
       "      <th>obj_type</th>\n",
       "      <th>x</th>\n",
       "      <th>y</th>\n",
       "      <th>w</th>\n",
       "      <th>h</th>\n",
       "      <th>confidence</th>\n",
       "    </tr>\n",
       "  </thead>\n",
       "  <tbody>\n",
       "    <tr>\n",
       "      <th>33194</th>\n",
       "      <td>20191216_123222.mp4</td>\n",
       "      <td>68</td>\n",
       "      <td>Cellphone</td>\n",
       "      <td>224</td>\n",
       "      <td>546</td>\n",
       "      <td>138</td>\n",
       "      <td>72</td>\n",
       "      <td>0.552914</td>\n",
       "    </tr>\n",
       "    <tr>\n",
       "      <th>33203</th>\n",
       "      <td>20191216_123222.mp4</td>\n",
       "      <td>70</td>\n",
       "      <td>Cellphone</td>\n",
       "      <td>222</td>\n",
       "      <td>542</td>\n",
       "      <td>142</td>\n",
       "      <td>68</td>\n",
       "      <td>0.552914</td>\n",
       "    </tr>\n",
       "    <tr>\n",
       "      <th>33345</th>\n",
       "      <td>20191216_123222.mp4</td>\n",
       "      <td>106</td>\n",
       "      <td>Cellphone</td>\n",
       "      <td>222</td>\n",
       "      <td>548</td>\n",
       "      <td>136</td>\n",
       "      <td>56</td>\n",
       "      <td>0.558194</td>\n",
       "    </tr>\n",
       "    <tr>\n",
       "      <th>33350</th>\n",
       "      <td>20191216_123222.mp4</td>\n",
       "      <td>107</td>\n",
       "      <td>Cellphone</td>\n",
       "      <td>220</td>\n",
       "      <td>546</td>\n",
       "      <td>134</td>\n",
       "      <td>62</td>\n",
       "      <td>0.525194</td>\n",
       "    </tr>\n",
       "    <tr>\n",
       "      <th>33355</th>\n",
       "      <td>20191216_123222.mp4</td>\n",
       "      <td>108</td>\n",
       "      <td>Cellphone</td>\n",
       "      <td>228</td>\n",
       "      <td>544</td>\n",
       "      <td>132</td>\n",
       "      <td>60</td>\n",
       "      <td>0.543845</td>\n",
       "    </tr>\n",
       "    <tr>\n",
       "      <th>...</th>\n",
       "      <td>...</td>\n",
       "      <td>...</td>\n",
       "      <td>...</td>\n",
       "      <td>...</td>\n",
       "      <td>...</td>\n",
       "      <td>...</td>\n",
       "      <td>...</td>\n",
       "      <td>...</td>\n",
       "    </tr>\n",
       "    <tr>\n",
       "      <th>51550</th>\n",
       "      <td>20191216_123222.mp4</td>\n",
       "      <td>4457</td>\n",
       "      <td>Cellphone</td>\n",
       "      <td>202</td>\n",
       "      <td>410</td>\n",
       "      <td>46</td>\n",
       "      <td>106</td>\n",
       "      <td>0.510330</td>\n",
       "    </tr>\n",
       "    <tr>\n",
       "      <th>51959</th>\n",
       "      <td>20191216_123222.mp4</td>\n",
       "      <td>4559</td>\n",
       "      <td>Cellphone</td>\n",
       "      <td>192</td>\n",
       "      <td>408</td>\n",
       "      <td>54</td>\n",
       "      <td>100</td>\n",
       "      <td>0.509747</td>\n",
       "    </tr>\n",
       "    <tr>\n",
       "      <th>51964</th>\n",
       "      <td>20191216_123222.mp4</td>\n",
       "      <td>4560</td>\n",
       "      <td>Cellphone</td>\n",
       "      <td>186</td>\n",
       "      <td>412</td>\n",
       "      <td>58</td>\n",
       "      <td>100</td>\n",
       "      <td>0.590903</td>\n",
       "    </tr>\n",
       "    <tr>\n",
       "      <th>52470</th>\n",
       "      <td>20191216_123222.mp4</td>\n",
       "      <td>4686</td>\n",
       "      <td>Cellphone</td>\n",
       "      <td>236</td>\n",
       "      <td>508</td>\n",
       "      <td>130</td>\n",
       "      <td>74</td>\n",
       "      <td>0.579531</td>\n",
       "    </tr>\n",
       "    <tr>\n",
       "      <th>52472</th>\n",
       "      <td>20191216_123222.mp4</td>\n",
       "      <td>4687</td>\n",
       "      <td>Cellphone</td>\n",
       "      <td>214</td>\n",
       "      <td>500</td>\n",
       "      <td>144</td>\n",
       "      <td>84</td>\n",
       "      <td>0.673247</td>\n",
       "    </tr>\n",
       "  </tbody>\n",
       "</table>\n",
       "<p>757 rows × 8 columns</p>\n",
       "</div>"
      ],
      "text/plain": [
       "                 clip_name  frame_num   obj_type    x    y    w    h  \\\n",
       "33194  20191216_123222.mp4         68  Cellphone  224  546  138   72   \n",
       "33203  20191216_123222.mp4         70  Cellphone  222  542  142   68   \n",
       "33345  20191216_123222.mp4        106  Cellphone  222  548  136   56   \n",
       "33350  20191216_123222.mp4        107  Cellphone  220  546  134   62   \n",
       "33355  20191216_123222.mp4        108  Cellphone  228  544  132   60   \n",
       "...                    ...        ...        ...  ...  ...  ...  ...   \n",
       "51550  20191216_123222.mp4       4457  Cellphone  202  410   46  106   \n",
       "51959  20191216_123222.mp4       4559  Cellphone  192  408   54  100   \n",
       "51964  20191216_123222.mp4       4560  Cellphone  186  412   58  100   \n",
       "52470  20191216_123222.mp4       4686  Cellphone  236  508  130   74   \n",
       "52472  20191216_123222.mp4       4687  Cellphone  214  500  144   84   \n",
       "\n",
       "       confidence  \n",
       "33194    0.552914  \n",
       "33203    0.552914  \n",
       "33345    0.558194  \n",
       "33350    0.525194  \n",
       "33355    0.543845  \n",
       "...           ...  \n",
       "51550    0.510330  \n",
       "51959    0.509747  \n",
       "51964    0.590903  \n",
       "52470    0.579531  \n",
       "52472    0.673247  \n",
       "\n",
       "[757 rows x 8 columns]"
      ]
     },
     "execution_count": 15,
     "metadata": {},
     "output_type": "execute_result"
    }
   ],
   "source": [
    "preds.loc[(preds['clip_name'] == '20191216_123222.mp4') & (preds['obj_type'] == 'Cellphone')]"
   ]
  },
  {
   "attachments": {},
   "cell_type": "markdown",
   "metadata": {},
   "source": []
  },
  {
   "attachments": {},
   "cell_type": "markdown",
   "metadata": {},
   "source": [
    "Соединяю разметку и предсказания в один датафрейм"
   ]
  },
  {
   "cell_type": "code",
   "execution_count": 16,
   "metadata": {},
   "outputs": [],
   "source": [
    "df = gt.merge(preds, how='outer', left_on=['clip_name', 'frame_num', 'obj_type'], right_on=['clip_name', 'frame_num', 'obj_type'])"
   ]
  },
  {
   "cell_type": "code",
   "execution_count": 17,
   "metadata": {},
   "outputs": [
    {
     "data": {
      "text/html": [
       "<div>\n",
       "<style scoped>\n",
       "    .dataframe tbody tr th:only-of-type {\n",
       "        vertical-align: middle;\n",
       "    }\n",
       "\n",
       "    .dataframe tbody tr th {\n",
       "        vertical-align: top;\n",
       "    }\n",
       "\n",
       "    .dataframe thead th {\n",
       "        text-align: right;\n",
       "    }\n",
       "</style>\n",
       "<table border=\"1\" class=\"dataframe\">\n",
       "  <thead>\n",
       "    <tr style=\"text-align: right;\">\n",
       "      <th></th>\n",
       "      <th>clip_name</th>\n",
       "      <th>frame_num</th>\n",
       "      <th>obj_type</th>\n",
       "      <th>x_x</th>\n",
       "      <th>y_x</th>\n",
       "      <th>w_x</th>\n",
       "      <th>h_x</th>\n",
       "      <th>label</th>\n",
       "      <th>x_y</th>\n",
       "      <th>y_y</th>\n",
       "      <th>w_y</th>\n",
       "      <th>h_y</th>\n",
       "      <th>confidence</th>\n",
       "    </tr>\n",
       "  </thead>\n",
       "  <tbody>\n",
       "    <tr>\n",
       "      <th>374878</th>\n",
       "      <td>20191216_123222.mp4</td>\n",
       "      <td>3592</td>\n",
       "      <td>Face</td>\n",
       "      <td>195.0</td>\n",
       "      <td>278.0</td>\n",
       "      <td>190.0</td>\n",
       "      <td>245.0</td>\n",
       "      <td>Unknown</td>\n",
       "      <td>230.0</td>\n",
       "      <td>368.0</td>\n",
       "      <td>126.0</td>\n",
       "      <td>160.0</td>\n",
       "      <td>0.000000</td>\n",
       "    </tr>\n",
       "    <tr>\n",
       "      <th>374879</th>\n",
       "      <td>20191216_123222.mp4</td>\n",
       "      <td>3592</td>\n",
       "      <td>Glasses</td>\n",
       "      <td>213.0</td>\n",
       "      <td>400.0</td>\n",
       "      <td>156.0</td>\n",
       "      <td>60.0</td>\n",
       "      <td>Unknown</td>\n",
       "      <td>224.0</td>\n",
       "      <td>402.0</td>\n",
       "      <td>146.0</td>\n",
       "      <td>62.0</td>\n",
       "      <td>0.769557</td>\n",
       "    </tr>\n",
       "    <tr>\n",
       "      <th>374880</th>\n",
       "      <td>20191216_123222.mp4</td>\n",
       "      <td>3592</td>\n",
       "      <td>Eyes</td>\n",
       "      <td>235.0</td>\n",
       "      <td>412.0</td>\n",
       "      <td>117.0</td>\n",
       "      <td>35.0</td>\n",
       "      <td>Unknown</td>\n",
       "      <td>NaN</td>\n",
       "      <td>NaN</td>\n",
       "      <td>NaN</td>\n",
       "      <td>NaN</td>\n",
       "      <td>NaN</td>\n",
       "    </tr>\n",
       "    <tr>\n",
       "      <th>374881</th>\n",
       "      <td>20191216_123222.mp4</td>\n",
       "      <td>3592</td>\n",
       "      <td>Mouth</td>\n",
       "      <td>269.0</td>\n",
       "      <td>480.0</td>\n",
       "      <td>56.0</td>\n",
       "      <td>25.0</td>\n",
       "      <td>Close</td>\n",
       "      <td>238.0</td>\n",
       "      <td>464.0</td>\n",
       "      <td>114.0</td>\n",
       "      <td>56.0</td>\n",
       "      <td>0.003906</td>\n",
       "    </tr>\n",
       "    <tr>\n",
       "      <th>374882</th>\n",
       "      <td>20191216_123222.mp4</td>\n",
       "      <td>3592</td>\n",
       "      <td>Cellphone</td>\n",
       "      <td>300.0</td>\n",
       "      <td>700.0</td>\n",
       "      <td>84.0</td>\n",
       "      <td>20.0</td>\n",
       "      <td>Hard</td>\n",
       "      <td>NaN</td>\n",
       "      <td>NaN</td>\n",
       "      <td>NaN</td>\n",
       "      <td>NaN</td>\n",
       "      <td>NaN</td>\n",
       "    </tr>\n",
       "  </tbody>\n",
       "</table>\n",
       "</div>"
      ],
      "text/plain": [
       "                  clip_name  frame_num   obj_type    x_x    y_x    w_x    h_x  \\\n",
       "374878  20191216_123222.mp4       3592       Face  195.0  278.0  190.0  245.0   \n",
       "374879  20191216_123222.mp4       3592    Glasses  213.0  400.0  156.0   60.0   \n",
       "374880  20191216_123222.mp4       3592       Eyes  235.0  412.0  117.0   35.0   \n",
       "374881  20191216_123222.mp4       3592      Mouth  269.0  480.0   56.0   25.0   \n",
       "374882  20191216_123222.mp4       3592  Cellphone  300.0  700.0   84.0   20.0   \n",
       "\n",
       "          label    x_y    y_y    w_y    h_y  confidence  \n",
       "374878  Unknown  230.0  368.0  126.0  160.0    0.000000  \n",
       "374879  Unknown  224.0  402.0  146.0   62.0    0.769557  \n",
       "374880  Unknown    NaN    NaN    NaN    NaN         NaN  \n",
       "374881    Close  238.0  464.0  114.0   56.0    0.003906  \n",
       "374882     Hard    NaN    NaN    NaN    NaN         NaN  "
      ]
     },
     "execution_count": 17,
     "metadata": {},
     "output_type": "execute_result"
    }
   ],
   "source": [
    "df.loc[(df['clip_name'] == '20191216_123222.mp4') & (df['frame_num'] == 3592)]"
   ]
  },
  {
   "cell_type": "code",
   "execution_count": 18,
   "metadata": {},
   "outputs": [
    {
     "data": {
      "text/html": [
       "<div>\n",
       "<style scoped>\n",
       "    .dataframe tbody tr th:only-of-type {\n",
       "        vertical-align: middle;\n",
       "    }\n",
       "\n",
       "    .dataframe tbody tr th {\n",
       "        vertical-align: top;\n",
       "    }\n",
       "\n",
       "    .dataframe thead th {\n",
       "        text-align: right;\n",
       "    }\n",
       "</style>\n",
       "<table border=\"1\" class=\"dataframe\">\n",
       "  <thead>\n",
       "    <tr style=\"text-align: right;\">\n",
       "      <th></th>\n",
       "      <th>clip_name</th>\n",
       "      <th>frame_num</th>\n",
       "      <th>obj_type</th>\n",
       "      <th>x_x</th>\n",
       "      <th>y_x</th>\n",
       "      <th>w_x</th>\n",
       "      <th>h_x</th>\n",
       "      <th>label</th>\n",
       "      <th>x_y</th>\n",
       "      <th>y_y</th>\n",
       "      <th>w_y</th>\n",
       "      <th>h_y</th>\n",
       "      <th>confidence</th>\n",
       "    </tr>\n",
       "  </thead>\n",
       "  <tbody>\n",
       "    <tr>\n",
       "      <th>363195</th>\n",
       "      <td>20191216_123222.mp4</td>\n",
       "      <td>68</td>\n",
       "      <td>Face</td>\n",
       "      <td>163.0</td>\n",
       "      <td>280.0</td>\n",
       "      <td>235.0</td>\n",
       "      <td>202.0</td>\n",
       "      <td>Side</td>\n",
       "      <td>170.0</td>\n",
       "      <td>340.0</td>\n",
       "      <td>96.0</td>\n",
       "      <td>142.0</td>\n",
       "      <td>0.000000</td>\n",
       "    </tr>\n",
       "    <tr>\n",
       "      <th>363196</th>\n",
       "      <td>20191216_123222.mp4</td>\n",
       "      <td>68</td>\n",
       "      <td>Mouth</td>\n",
       "      <td>177.0</td>\n",
       "      <td>434.0</td>\n",
       "      <td>22.0</td>\n",
       "      <td>23.0</td>\n",
       "      <td>Close</td>\n",
       "      <td>140.0</td>\n",
       "      <td>416.0</td>\n",
       "      <td>100.0</td>\n",
       "      <td>50.0</td>\n",
       "      <td>0.003906</td>\n",
       "    </tr>\n",
       "    <tr>\n",
       "      <th>363197</th>\n",
       "      <td>20191216_123222.mp4</td>\n",
       "      <td>68</td>\n",
       "      <td>Eyes</td>\n",
       "      <td>185.0</td>\n",
       "      <td>371.0</td>\n",
       "      <td>33.0</td>\n",
       "      <td>32.0</td>\n",
       "      <td>Unknown</td>\n",
       "      <td>144.0</td>\n",
       "      <td>364.0</td>\n",
       "      <td>100.0</td>\n",
       "      <td>50.0</td>\n",
       "      <td>0.312500</td>\n",
       "    </tr>\n",
       "    <tr>\n",
       "      <th>1646852</th>\n",
       "      <td>20191216_123222.mp4</td>\n",
       "      <td>68</td>\n",
       "      <td>Cellphone</td>\n",
       "      <td>NaN</td>\n",
       "      <td>NaN</td>\n",
       "      <td>NaN</td>\n",
       "      <td>NaN</td>\n",
       "      <td>NaN</td>\n",
       "      <td>224.0</td>\n",
       "      <td>546.0</td>\n",
       "      <td>138.0</td>\n",
       "      <td>72.0</td>\n",
       "      <td>0.552914</td>\n",
       "    </tr>\n",
       "  </tbody>\n",
       "</table>\n",
       "</div>"
      ],
      "text/plain": [
       "                   clip_name  frame_num   obj_type    x_x    y_x    w_x  \\\n",
       "363195   20191216_123222.mp4         68       Face  163.0  280.0  235.0   \n",
       "363196   20191216_123222.mp4         68      Mouth  177.0  434.0   22.0   \n",
       "363197   20191216_123222.mp4         68       Eyes  185.0  371.0   33.0   \n",
       "1646852  20191216_123222.mp4         68  Cellphone    NaN    NaN    NaN   \n",
       "\n",
       "           h_x    label    x_y    y_y    w_y    h_y  confidence  \n",
       "363195   202.0     Side  170.0  340.0   96.0  142.0    0.000000  \n",
       "363196    23.0    Close  140.0  416.0  100.0   50.0    0.003906  \n",
       "363197    32.0  Unknown  144.0  364.0  100.0   50.0    0.312500  \n",
       "1646852    NaN      NaN  224.0  546.0  138.0   72.0    0.552914  "
      ]
     },
     "execution_count": 18,
     "metadata": {},
     "output_type": "execute_result"
    }
   ],
   "source": [
    "df.loc[(df['clip_name'] == '20191216_123222.mp4') & (df['frame_num'] == 68)]"
   ]
  },
  {
   "cell_type": "code",
   "execution_count": 19,
   "metadata": {},
   "outputs": [],
   "source": [
    "df = df.rename(columns={'x_x' : 'x_gt', 'y_x' : 'y_gt', 'w_x' : 'w_gt', 'h_x' : 'h_gt',\n",
    "                        'x_y' : 'x_pred', 'y_y' : 'y_pred', 'w_y' : 'w_pred', 'h_y' : 'h_pred',})"
   ]
  },
  {
   "attachments": {},
   "cell_type": "markdown",
   "metadata": {},
   "source": [
    "Заполняю пропуски нулями"
   ]
  },
  {
   "cell_type": "code",
   "execution_count": 20,
   "metadata": {},
   "outputs": [],
   "source": [
    "df = df.fillna(0)"
   ]
  },
  {
   "cell_type": "code",
   "execution_count": 21,
   "metadata": {},
   "outputs": [
    {
     "data": {
      "text/html": [
       "<div>\n",
       "<style scoped>\n",
       "    .dataframe tbody tr th:only-of-type {\n",
       "        vertical-align: middle;\n",
       "    }\n",
       "\n",
       "    .dataframe tbody tr th {\n",
       "        vertical-align: top;\n",
       "    }\n",
       "\n",
       "    .dataframe thead th {\n",
       "        text-align: right;\n",
       "    }\n",
       "</style>\n",
       "<table border=\"1\" class=\"dataframe\">\n",
       "  <thead>\n",
       "    <tr style=\"text-align: right;\">\n",
       "      <th></th>\n",
       "      <th>clip_name</th>\n",
       "      <th>frame_num</th>\n",
       "      <th>obj_type</th>\n",
       "      <th>x_gt</th>\n",
       "      <th>y_gt</th>\n",
       "      <th>w_gt</th>\n",
       "      <th>h_gt</th>\n",
       "      <th>label</th>\n",
       "      <th>x_pred</th>\n",
       "      <th>y_pred</th>\n",
       "      <th>w_pred</th>\n",
       "      <th>h_pred</th>\n",
       "      <th>confidence</th>\n",
       "    </tr>\n",
       "  </thead>\n",
       "  <tbody>\n",
       "    <tr>\n",
       "      <th>0</th>\n",
       "      <td>How Expensive are Good Sunglasses 25- 400 w En...</td>\n",
       "      <td>91</td>\n",
       "      <td>Face</td>\n",
       "      <td>519.0</td>\n",
       "      <td>10.0</td>\n",
       "      <td>248.0</td>\n",
       "      <td>357.0</td>\n",
       "      <td>Straight</td>\n",
       "      <td>524.0</td>\n",
       "      <td>82.0</td>\n",
       "      <td>220.0</td>\n",
       "      <td>296.0</td>\n",
       "      <td>0.000000</td>\n",
       "    </tr>\n",
       "    <tr>\n",
       "      <th>1</th>\n",
       "      <td>How Expensive are Good Sunglasses 25- 400 w En...</td>\n",
       "      <td>91</td>\n",
       "      <td>Sunglasses</td>\n",
       "      <td>531.0</td>\n",
       "      <td>155.0</td>\n",
       "      <td>226.0</td>\n",
       "      <td>80.0</td>\n",
       "      <td>OnEyes</td>\n",
       "      <td>522.0</td>\n",
       "      <td>148.0</td>\n",
       "      <td>248.0</td>\n",
       "      <td>88.0</td>\n",
       "      <td>0.865158</td>\n",
       "    </tr>\n",
       "    <tr>\n",
       "      <th>2</th>\n",
       "      <td>How Expensive are Good Sunglasses 25- 400 w En...</td>\n",
       "      <td>91</td>\n",
       "      <td>Eyes</td>\n",
       "      <td>547.0</td>\n",
       "      <td>150.0</td>\n",
       "      <td>194.0</td>\n",
       "      <td>63.0</td>\n",
       "      <td>Unknown</td>\n",
       "      <td>528.0</td>\n",
       "      <td>140.0</td>\n",
       "      <td>212.0</td>\n",
       "      <td>106.0</td>\n",
       "      <td>0.085938</td>\n",
       "    </tr>\n",
       "    <tr>\n",
       "      <th>3</th>\n",
       "      <td>How Expensive are Good Sunglasses 25- 400 w En...</td>\n",
       "      <td>91</td>\n",
       "      <td>Mouth</td>\n",
       "      <td>594.0</td>\n",
       "      <td>269.0</td>\n",
       "      <td>107.0</td>\n",
       "      <td>45.0</td>\n",
       "      <td>Close</td>\n",
       "      <td>524.0</td>\n",
       "      <td>246.0</td>\n",
       "      <td>212.0</td>\n",
       "      <td>106.0</td>\n",
       "      <td>0.003906</td>\n",
       "    </tr>\n",
       "    <tr>\n",
       "      <th>4</th>\n",
       "      <td>How Expensive are Good Sunglasses 25- 400 w En...</td>\n",
       "      <td>92</td>\n",
       "      <td>Face</td>\n",
       "      <td>519.0</td>\n",
       "      <td>10.0</td>\n",
       "      <td>248.0</td>\n",
       "      <td>357.0</td>\n",
       "      <td>Straight</td>\n",
       "      <td>526.0</td>\n",
       "      <td>80.0</td>\n",
       "      <td>220.0</td>\n",
       "      <td>294.0</td>\n",
       "      <td>0.000000</td>\n",
       "    </tr>\n",
       "    <tr>\n",
       "      <th>...</th>\n",
       "      <td>...</td>\n",
       "      <td>...</td>\n",
       "      <td>...</td>\n",
       "      <td>...</td>\n",
       "      <td>...</td>\n",
       "      <td>...</td>\n",
       "      <td>...</td>\n",
       "      <td>...</td>\n",
       "      <td>...</td>\n",
       "      <td>...</td>\n",
       "      <td>...</td>\n",
       "      <td>...</td>\n",
       "      <td>...</td>\n",
       "    </tr>\n",
       "    <tr>\n",
       "      <th>2659511</th>\n",
       "      <td>090508105732_2.mp4</td>\n",
       "      <td>1386</td>\n",
       "      <td>Sunglasses</td>\n",
       "      <td>0.0</td>\n",
       "      <td>0.0</td>\n",
       "      <td>0.0</td>\n",
       "      <td>0.0</td>\n",
       "      <td>0</td>\n",
       "      <td>381.0</td>\n",
       "      <td>516.0</td>\n",
       "      <td>186.0</td>\n",
       "      <td>60.0</td>\n",
       "      <td>0.520158</td>\n",
       "    </tr>\n",
       "    <tr>\n",
       "      <th>2659512</th>\n",
       "      <td>090508105732_2.mp4</td>\n",
       "      <td>1386</td>\n",
       "      <td>Cellphone</td>\n",
       "      <td>0.0</td>\n",
       "      <td>0.0</td>\n",
       "      <td>0.0</td>\n",
       "      <td>0.0</td>\n",
       "      <td>0</td>\n",
       "      <td>417.0</td>\n",
       "      <td>540.0</td>\n",
       "      <td>204.0</td>\n",
       "      <td>132.0</td>\n",
       "      <td>0.513950</td>\n",
       "    </tr>\n",
       "    <tr>\n",
       "      <th>2659513</th>\n",
       "      <td>090508105732_2.mp4</td>\n",
       "      <td>1387</td>\n",
       "      <td>Sunglasses</td>\n",
       "      <td>0.0</td>\n",
       "      <td>0.0</td>\n",
       "      <td>0.0</td>\n",
       "      <td>0.0</td>\n",
       "      <td>0</td>\n",
       "      <td>378.0</td>\n",
       "      <td>519.0</td>\n",
       "      <td>183.0</td>\n",
       "      <td>57.0</td>\n",
       "      <td>0.546035</td>\n",
       "    </tr>\n",
       "    <tr>\n",
       "      <th>2659514</th>\n",
       "      <td>090508105732_2.mp4</td>\n",
       "      <td>1393</td>\n",
       "      <td>Sunglasses</td>\n",
       "      <td>0.0</td>\n",
       "      <td>0.0</td>\n",
       "      <td>0.0</td>\n",
       "      <td>0.0</td>\n",
       "      <td>0</td>\n",
       "      <td>378.0</td>\n",
       "      <td>522.0</td>\n",
       "      <td>168.0</td>\n",
       "      <td>54.0</td>\n",
       "      <td>0.568684</td>\n",
       "    </tr>\n",
       "    <tr>\n",
       "      <th>2659515</th>\n",
       "      <td>090508105732_2.mp4</td>\n",
       "      <td>1518</td>\n",
       "      <td>Cellphone</td>\n",
       "      <td>0.0</td>\n",
       "      <td>0.0</td>\n",
       "      <td>0.0</td>\n",
       "      <td>0.0</td>\n",
       "      <td>0</td>\n",
       "      <td>435.0</td>\n",
       "      <td>561.0</td>\n",
       "      <td>159.0</td>\n",
       "      <td>159.0</td>\n",
       "      <td>0.605707</td>\n",
       "    </tr>\n",
       "  </tbody>\n",
       "</table>\n",
       "<p>2659516 rows × 13 columns</p>\n",
       "</div>"
      ],
      "text/plain": [
       "                                                 clip_name  frame_num  \\\n",
       "0        How Expensive are Good Sunglasses 25- 400 w En...         91   \n",
       "1        How Expensive are Good Sunglasses 25- 400 w En...         91   \n",
       "2        How Expensive are Good Sunglasses 25- 400 w En...         91   \n",
       "3        How Expensive are Good Sunglasses 25- 400 w En...         91   \n",
       "4        How Expensive are Good Sunglasses 25- 400 w En...         92   \n",
       "...                                                    ...        ...   \n",
       "2659511                                 090508105732_2.mp4       1386   \n",
       "2659512                                 090508105732_2.mp4       1386   \n",
       "2659513                                 090508105732_2.mp4       1387   \n",
       "2659514                                 090508105732_2.mp4       1393   \n",
       "2659515                                 090508105732_2.mp4       1518   \n",
       "\n",
       "           obj_type   x_gt   y_gt   w_gt   h_gt     label  x_pred  y_pred  \\\n",
       "0              Face  519.0   10.0  248.0  357.0  Straight   524.0    82.0   \n",
       "1        Sunglasses  531.0  155.0  226.0   80.0    OnEyes   522.0   148.0   \n",
       "2              Eyes  547.0  150.0  194.0   63.0   Unknown   528.0   140.0   \n",
       "3             Mouth  594.0  269.0  107.0   45.0     Close   524.0   246.0   \n",
       "4              Face  519.0   10.0  248.0  357.0  Straight   526.0    80.0   \n",
       "...             ...    ...    ...    ...    ...       ...     ...     ...   \n",
       "2659511  Sunglasses    0.0    0.0    0.0    0.0         0   381.0   516.0   \n",
       "2659512   Cellphone    0.0    0.0    0.0    0.0         0   417.0   540.0   \n",
       "2659513  Sunglasses    0.0    0.0    0.0    0.0         0   378.0   519.0   \n",
       "2659514  Sunglasses    0.0    0.0    0.0    0.0         0   378.0   522.0   \n",
       "2659515   Cellphone    0.0    0.0    0.0    0.0         0   435.0   561.0   \n",
       "\n",
       "         w_pred  h_pred  confidence  \n",
       "0         220.0   296.0    0.000000  \n",
       "1         248.0    88.0    0.865158  \n",
       "2         212.0   106.0    0.085938  \n",
       "3         212.0   106.0    0.003906  \n",
       "4         220.0   294.0    0.000000  \n",
       "...         ...     ...         ...  \n",
       "2659511   186.0    60.0    0.520158  \n",
       "2659512   204.0   132.0    0.513950  \n",
       "2659513   183.0    57.0    0.546035  \n",
       "2659514   168.0    54.0    0.568684  \n",
       "2659515   159.0   159.0    0.605707  \n",
       "\n",
       "[2659516 rows x 13 columns]"
      ]
     },
     "execution_count": 21,
     "metadata": {},
     "output_type": "execute_result"
    }
   ],
   "source": [
    "df"
   ]
  },
  {
   "cell_type": "code",
   "execution_count": 22,
   "metadata": {},
   "outputs": [
    {
     "data": {
      "text/plain": [
       "array(['Face', 'Sunglasses', 'Eyes', 'Mouth', 'Cellphone', 'Glasses'],\n",
       "      dtype=object)"
      ]
     },
     "execution_count": 22,
     "metadata": {},
     "output_type": "execute_result"
    }
   ],
   "source": [
    "df['obj_type'].unique()"
   ]
  },
  {
   "cell_type": "markdown",
   "metadata": {},
   "source": [
    "Статистики на датасете с лейблом 'Unknown'"
   ]
  },
  {
   "cell_type": "code",
   "execution_count": 23,
   "metadata": {},
   "outputs": [
    {
     "name": "stdout",
     "output_type": "stream",
     "text": [
      "Face\n",
      "AP: 0.2554776668548584\n",
      "Number of true objects: 426172\n",
      "Number of detections: 739415\n",
      "Number of TP: 349124\n",
      "Number of FP: 390291\n"
     ]
    },
    {
     "data": {
      "image/png": "[encoded data removed]",
      "text/plain": [
       "<Figure size 432x288 with 1 Axes>"
      ]
     },
     "metadata": {
      "needs_background": "light"
     },
     "output_type": "display_data"
    },
    {
     "data": {
      "image/png": "[encoded data removed]",
      "text/plain": [
       "<Figure size 432x288 with 1 Axes>"
      ]
     },
     "metadata": {
      "needs_background": "light"
     },
     "output_type": "display_data"
    },
    {
     "name": "stdout",
     "output_type": "stream",
     "text": [
      "----------------\n",
      "\n",
      "Sunglasses\n",
      "AP: 0.21178151667118073\n",
      "Number of true objects: 142460\n",
      "Number of detections: 230603\n",
      "Number of TP: 82855\n",
      "Number of FP: 147748\n"
     ]
    },
    {
     "data": {
      "image/png": "[encoded data removed]",
      "text/plain": [
       "<Figure size 432x288 with 1 Axes>"
      ]
     },
     "metadata": {
      "needs_background": "light"
     },
     "output_type": "display_data"
    },
    {
     "data": {
      "image/png": "[encoded data removed]",
      "text/plain": [
       "<Figure size 432x288 with 1 Axes>"
      ]
     },
     "metadata": {
      "needs_background": "light"
     },
     "output_type": "display_data"
    },
    {
     "name": "stdout",
     "output_type": "stream",
     "text": [
      "----------------\n",
      "\n",
      "Eyes\n",
      "AP: 0.0705743134021759\n",
      "Number of true objects: 414440\n",
      "Number of detections: 210626\n",
      "Number of TP: 80218\n",
      "Number of FP: 130408\n"
     ]
    },
    {
     "data": {
      "image/png": "[encoded data removed]",
      "text/plain": [
       "<Figure size 432x288 with 1 Axes>"
      ]
     },
     "metadata": {
      "needs_background": "light"
     },
     "output_type": "display_data"
    },
    {
     "data": {
      "image/png": "[encoded data removed]",
      "text/plain": [
       "<Figure size 432x288 with 1 Axes>"
      ]
     },
     "metadata": {
      "needs_background": "light"
     },
     "output_type": "display_data"
    },
    {
     "name": "stdout",
     "output_type": "stream",
     "text": [
      "----------------\n",
      "\n",
      "Mouth\n",
      "AP: 0.0009461799054406583\n",
      "Number of true objects: 398239\n",
      "Number of detections: 642234\n",
      "Number of TP: 10084\n",
      "Number of FP: 632150\n"
     ]
    },
    {
     "data": {
      "image/png": "[encoded data removed]",
      "text/plain": [
       "<Figure size 432x288 with 1 Axes>"
      ]
     },
     "metadata": {
      "needs_background": "light"
     },
     "output_type": "display_data"
    },
    {
     "data": {
      "image/png": "[encoded data removed]",
      "text/plain": [
       "<Figure size 432x288 with 1 Axes>"
      ]
     },
     "metadata": {
      "needs_background": "light"
     },
     "output_type": "display_data"
    },
    {
     "name": "stdout",
     "output_type": "stream",
     "text": [
      "----------------\n",
      "\n",
      "Cellphone\n",
      "AP: 0.4981195330619812\n",
      "Number of true objects: 84578\n",
      "Number of detections: 172834\n",
      "Number of TP: 54594\n",
      "Number of FP: 118240\n"
     ]
    },
    {
     "data": {
      "image/png": "[encoded data removed]",
      "text/plain": [
       "<Figure size 432x288 with 1 Axes>"
      ]
     },
     "metadata": {
      "needs_background": "light"
     },
     "output_type": "display_data"
    },
    {
     "data": {
      "image/png": "[encoded data removed]",
      "text/plain": [
       "<Figure size 432x288 with 1 Axes>"
      ]
     },
     "metadata": {
      "needs_background": "light"
     },
     "output_type": "display_data"
    },
    {
     "name": "stdout",
     "output_type": "stream",
     "text": [
      "----------------\n",
      "\n",
      "Glasses\n",
      "AP: 0.8533702492713928\n",
      "Number of true objects: 164829\n",
      "Number of detections: 173882\n",
      "Number of TP: 146400\n",
      "Number of FP: 27482\n"
     ]
    },
    {
     "data": {
      "image/png": "[encoded data removed]",
      "text/plain": [
       "<Figure size 432x288 with 1 Axes>"
      ]
     },
     "metadata": {
      "needs_background": "light"
     },
     "output_type": "display_data"
    },
    {
     "data": {
      "image/png": "[encoded data removed]",
      "text/plain": [
       "<Figure size 432x288 with 1 Axes>"
      ]
     },
     "metadata": {
      "needs_background": "light"
     },
     "output_type": "display_data"
    },
    {
     "name": "stdout",
     "output_type": "stream",
     "text": [
      "----------------\n",
      "\n"
     ]
    }
   ],
   "source": [
    "for obj_type in df['obj_type'].unique():\n",
    "    AP, num_true_objects, num_detections, TP_cnt, FP_cnt, precisions, recalls = get_metrics(df, obj_type)\n",
    "    print(obj_type)\n",
    "    print(f'AP: {AP}')\n",
    "    print(f'Number of true objects: {num_true_objects}')\n",
    "    print(f'Number of detections: {num_detections}')\n",
    "    print(f'Number of TP: {TP_cnt}')\n",
    "    print(f'Number of FP: {FP_cnt}')\n",
    "    plot_pr_curve(precisions, recalls, title=obj_type)\n",
    "    y_true, y_proba = get_gt_and_proba(df, obj_type)\n",
    "    plot_roc_curve(y_true, y_proba)\n",
    "    print('----------------\\n')"
   ]
  },
  {
   "cell_type": "markdown",
   "metadata": {},
   "source": [
    "Статистики на датасете без лейбла 'Unknown'"
   ]
  },
  {
   "cell_type": "code",
   "execution_count": 24,
   "metadata": {},
   "outputs": [
    {
     "name": "stdout",
     "output_type": "stream",
     "text": [
      "Face\n",
      "AP: 0.2386123239994049\n",
      "Number of true objects: 381232\n",
      "Number of detections: 697184\n",
      "Number of TP: 316707\n",
      "Number of FP: 380477\n"
     ]
    },
    {
     "data": {
      "image/png": "[encoded data removed]",
      "text/plain": [
       "<Figure size 432x288 with 1 Axes>"
      ]
     },
     "metadata": {
      "needs_background": "light"
     },
     "output_type": "display_data"
    },
    {
     "data": {
      "image/png": "[encoded data removed]",
      "text/plain": [
       "<Figure size 432x288 with 1 Axes>"
      ]
     },
     "metadata": {
      "needs_background": "light"
     },
     "output_type": "display_data"
    },
    {
     "name": "stdout",
     "output_type": "stream",
     "text": [
      "----------------\n",
      "\n",
      "Sunglasses\n",
      "AP: 0.27778077125549316\n",
      "Number of true objects: 107643\n",
      "Number of detections: 225472\n",
      "Number of TP: 81737\n",
      "Number of FP: 143735\n"
     ]
    },
    {
     "data": {
      "image/png": "[encoded data removed]",
      "text/plain": [
       "<Figure size 432x288 with 1 Axes>"
      ]
     },
     "metadata": {
      "needs_background": "light"
     },
     "output_type": "display_data"
    },
    {
     "data": {
      "image/png": "[encoded data removed]",
      "text/plain": [
       "<Figure size 432x288 with 1 Axes>"
      ]
     },
     "metadata": {
      "needs_background": "light"
     },
     "output_type": "display_data"
    },
    {
     "name": "stdout",
     "output_type": "stream",
     "text": [
      "----------------\n",
      "\n",
      "Eyes\n",
      "AP: 0.06917884945869446\n",
      "Number of true objects: 223882\n",
      "Number of detections: 185053\n",
      "Number of TP: 59147\n",
      "Number of FP: 125906\n"
     ]
    },
    {
     "data": {
      "image/png": "[encoded data removed]",
      "text/plain": [
       "<Figure size 432x288 with 1 Axes>"
      ]
     },
     "metadata": {
      "needs_background": "light"
     },
     "output_type": "display_data"
    },
    {
     "data": {
      "image/png": "[encoded data removed]",
      "text/plain": [
       "<Figure size 432x288 with 1 Axes>"
      ]
     },
     "metadata": {
      "needs_background": "light"
     },
     "output_type": "display_data"
    },
    {
     "name": "stdout",
     "output_type": "stream",
     "text": [
      "----------------\n",
      "\n",
      "Mouth\n",
      "AP: 0.0008954039076343179\n",
      "Number of true objects: 384399\n",
      "Number of detections: 629942\n",
      "Number of TP: 9870\n",
      "Number of FP: 620072\n"
     ]
    },
    {
     "data": {
      "image/png": "[encoded data removed]",
      "text/plain": [
       "<Figure size 432x288 with 1 Axes>"
      ]
     },
     "metadata": {
      "needs_background": "light"
     },
     "output_type": "display_data"
    },
    {
     "data": {
      "image/png": "[encoded data removed]",
      "text/plain": [
       "<Figure size 432x288 with 1 Axes>"
      ]
     },
     "metadata": {
      "needs_background": "light"
     },
     "output_type": "display_data"
    },
    {
     "name": "stdout",
     "output_type": "stream",
     "text": [
      "----------------\n",
      "\n",
      "Cellphone\n",
      "AP: 0.5414839386940002\n",
      "Number of true objects: 68910\n",
      "Number of detections: 165653\n",
      "Number of TP: 48269\n",
      "Number of FP: 117384\n"
     ]
    },
    {
     "data": {
      "image/png": "[encoded data removed]",
      "text/plain": [
       "<Figure size 432x288 with 1 Axes>"
      ]
     },
     "metadata": {
      "needs_background": "light"
     },
     "output_type": "display_data"
    },
    {
     "data": {
      "image/png": "[encoded data removed]",
      "text/plain": [
       "<Figure size 432x288 with 1 Axes>"
      ]
     },
     "metadata": {
      "needs_background": "light"
     },
     "output_type": "display_data"
    },
    {
     "name": "stdout",
     "output_type": "stream",
     "text": [
      "----------------\n",
      "\n",
      "Glasses\n",
      "AP: 0.8927746415138245\n",
      "Number of true objects: 117671\n",
      "Number of detections: 136933\n",
      "Number of TP: 109852\n",
      "Number of FP: 27081\n"
     ]
    },
    {
     "data": {
      "image/png": "[encoded data removed]",
      "text/plain": [
       "<Figure size 432x288 with 1 Axes>"
      ]
     },
     "metadata": {
      "needs_background": "light"
     },
     "output_type": "display_data"
    },
    {
     "data": {
      "image/png": "[encoded data removed]",
      "text/plain": [
       "<Figure size 432x288 with 1 Axes>"
      ]
     },
     "metadata": {
      "needs_background": "light"
     },
     "output_type": "display_data"
    },
    {
     "name": "stdout",
     "output_type": "stream",
     "text": [
      "----------------\n",
      "\n"
     ]
    }
   ],
   "source": [
    "for obj_type in df['obj_type'].unique():\n",
    "    AP, num_true_objects, num_detections, TP_cnt, FP_cnt, precisions, recalls = get_metrics(df[df['label'] != 'Unknown'], obj_type)\n",
    "    print(obj_type)\n",
    "    print(f'AP: {AP}')\n",
    "    print(f'Number of true objects: {num_true_objects}')\n",
    "    print(f'Number of detections: {num_detections}')\n",
    "    print(f'Number of TP: {TP_cnt}')\n",
    "    print(f'Number of FP: {FP_cnt}')\n",
    "    plot_pr_curve(precisions, recalls, title=obj_type)\n",
    "    y_true, y_proba = get_gt_and_proba(df[df['label'] != 'Unknown'], obj_type)\n",
    "    plot_roc_curve(y_true, y_proba)\n",
    "    print('----------------\\n')"
   ]
  }
 ],
 "metadata": {
  "kernelspec": {
   "display_name": "base",
   "language": "python",
   "name": "python3"
  },
  "language_info": {
   "codemirror_mode": {
    "name": "ipython",
    "version": 3
   },
   "file_extension": ".py",
   "mimetype": "text/x-python",
   "name": "python",
   "nbconvert_exporter": "python",
   "pygments_lexer": "ipython3",
   "version": "3.9.12"
  },
  "orig_nbformat": 4
 },
 "nbformat": 4,
 "nbformat_minor": 2
}
